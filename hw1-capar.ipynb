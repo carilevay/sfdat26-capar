{
 "cells": [
  {
   "cell_type": "code",
   "execution_count": 61,
   "metadata": {
    "collapsed": true
   },
   "outputs": [],
   "source": [
    "import pandas as pd\n",
    "# pd.set_option('max_colwidth', 50)\n",
    "# set this if you need to"
   ]
  },
  {
   "cell_type": "code",
   "execution_count": 62,
   "metadata": {
    "collapsed": true
   },
   "outputs": [],
   "source": [
    "# cagatay: adding the following in the beginning as will be necessary further down\n",
    "import matplotlib.pyplot as plt\n",
    "import seaborn as sns\n",
    "%matplotlib inline"
   ]
  },
  {
   "cell_type": "markdown",
   "metadata": {},
   "source": [
    "The Health Department has developed an inspection report and scoring system. \n",
    "After conducting an inspection of the facility, the Health Inspector calculates a score based on the violations observed. \n",
    "Violations can fall into:\n",
    "- **high risk category**: records specific violations that directly relate to the transmission of food borne illnesses,the adulteration of food products and the contamination of food-contact surfaces.\n",
    "- **moderate risk category**: records specific violations that are of a moderate risk to the public health and safety.\n",
    "- **low risk category**: records violations that are low risk or have no immediate risk to the public health and safety."
   ]
  },
  {
   "cell_type": "code",
   "execution_count": 63,
   "metadata": {
    "collapsed": true
   },
   "outputs": [
    {
     "data": {
      "text/html": [
       "<div>\n",
       "<table border=\"1\" class=\"dataframe\">\n",
       "  <thead>\n",
       "    <tr style=\"text-align: right;\">\n",
       "      <th></th>\n",
       "      <th>business_id</th>\n",
       "      <th>name</th>\n",
       "      <th>address</th>\n",
       "      <th>city</th>\n",
       "      <th>postal_code</th>\n",
       "      <th>latitude</th>\n",
       "      <th>longitude</th>\n",
       "      <th>phone_number</th>\n",
       "      <th>TaxCode</th>\n",
       "      <th>business_certificate</th>\n",
       "      <th>application_date</th>\n",
       "      <th>owner_name</th>\n",
       "      <th>owner_address</th>\n",
       "      <th>owner_city</th>\n",
       "      <th>owner_state</th>\n",
       "      <th>owner_zip</th>\n",
       "    </tr>\n",
       "  </thead>\n",
       "  <tbody>\n",
       "    <tr>\n",
       "      <th>0</th>\n",
       "      <td>10</td>\n",
       "      <td>Tiramisu Kitchen</td>\n",
       "      <td>033 Belden Pl</td>\n",
       "      <td>San Francisco</td>\n",
       "      <td>94104</td>\n",
       "      <td>37.791116</td>\n",
       "      <td>-122.403816</td>\n",
       "      <td>NaN</td>\n",
       "      <td>H24</td>\n",
       "      <td>779059.0</td>\n",
       "      <td>NaN</td>\n",
       "      <td>Tiramisu LLC</td>\n",
       "      <td>33 Belden St</td>\n",
       "      <td>San Francisco</td>\n",
       "      <td>CA</td>\n",
       "      <td>94104</td>\n",
       "    </tr>\n",
       "    <tr>\n",
       "      <th>1</th>\n",
       "      <td>19</td>\n",
       "      <td>Nrgize Lifestyle Cafe</td>\n",
       "      <td>1200 Van Ness Ave, 3rd Floor</td>\n",
       "      <td>San Francisco</td>\n",
       "      <td>94109</td>\n",
       "      <td>37.786848</td>\n",
       "      <td>-122.421547</td>\n",
       "      <td>NaN</td>\n",
       "      <td>H24</td>\n",
       "      <td>NaN</td>\n",
       "      <td>NaN</td>\n",
       "      <td>24 Hour Fitness Inc</td>\n",
       "      <td>1200 Van Ness Ave, 3rd Floor</td>\n",
       "      <td>San Francisco</td>\n",
       "      <td>CA</td>\n",
       "      <td>94109</td>\n",
       "    </tr>\n",
       "    <tr>\n",
       "      <th>2</th>\n",
       "      <td>24</td>\n",
       "      <td>OMNI S.F. Hotel - 2nd Floor Pantry</td>\n",
       "      <td>500 California St, 2nd  Floor</td>\n",
       "      <td>San Francisco</td>\n",
       "      <td>94104</td>\n",
       "      <td>37.792888</td>\n",
       "      <td>-122.403135</td>\n",
       "      <td>NaN</td>\n",
       "      <td>H24</td>\n",
       "      <td>352312.0</td>\n",
       "      <td>NaN</td>\n",
       "      <td>OMNI San Francisco Hotel Corp</td>\n",
       "      <td>500 California St, 2nd Floor</td>\n",
       "      <td>San Francisco</td>\n",
       "      <td>CA</td>\n",
       "      <td>94104</td>\n",
       "    </tr>\n",
       "    <tr>\n",
       "      <th>3</th>\n",
       "      <td>31</td>\n",
       "      <td>Norman's Ice Cream and Freezes</td>\n",
       "      <td>2801 Leavenworth St</td>\n",
       "      <td>San Francisco</td>\n",
       "      <td>94133</td>\n",
       "      <td>37.807155</td>\n",
       "      <td>-122.419004</td>\n",
       "      <td>NaN</td>\n",
       "      <td>H24</td>\n",
       "      <td>346882.0</td>\n",
       "      <td>NaN</td>\n",
       "      <td>Norman Antiforda</td>\n",
       "      <td>2801 Leavenworth St</td>\n",
       "      <td>San Francisco</td>\n",
       "      <td>CA</td>\n",
       "      <td>94133</td>\n",
       "    </tr>\n",
       "    <tr>\n",
       "      <th>4</th>\n",
       "      <td>45</td>\n",
       "      <td>CHARLIE'S DELI CAFE</td>\n",
       "      <td>3202 FOLSOM St</td>\n",
       "      <td>S.F.</td>\n",
       "      <td>94110</td>\n",
       "      <td>37.747114</td>\n",
       "      <td>-122.413641</td>\n",
       "      <td>NaN</td>\n",
       "      <td>H24</td>\n",
       "      <td>340024.0</td>\n",
       "      <td>10/10/2001</td>\n",
       "      <td>HARB, CHARLES AND KRISTIN</td>\n",
       "      <td>1150 SANCHEZ</td>\n",
       "      <td>S.F.</td>\n",
       "      <td>CA</td>\n",
       "      <td>94114</td>\n",
       "    </tr>\n",
       "  </tbody>\n",
       "</table>\n",
       "</div>"
      ],
      "text/plain": [
       "   business_id                                name  \\\n",
       "0           10                    Tiramisu Kitchen   \n",
       "1           19               Nrgize Lifestyle Cafe   \n",
       "2           24  OMNI S.F. Hotel - 2nd Floor Pantry   \n",
       "3           31      Norman's Ice Cream and Freezes   \n",
       "4           45                 CHARLIE'S DELI CAFE   \n",
       "\n",
       "                         address           city postal_code   latitude  \\\n",
       "0                  033 Belden Pl  San Francisco       94104  37.791116   \n",
       "1   1200 Van Ness Ave, 3rd Floor  San Francisco       94109  37.786848   \n",
       "2  500 California St, 2nd  Floor  San Francisco       94104  37.792888   \n",
       "3           2801 Leavenworth St   San Francisco       94133  37.807155   \n",
       "4                3202 FOLSOM St            S.F.       94110  37.747114   \n",
       "\n",
       "    longitude phone_number TaxCode  business_certificate application_date  \\\n",
       "0 -122.403816          NaN     H24              779059.0              NaN   \n",
       "1 -122.421547          NaN     H24                   NaN              NaN   \n",
       "2 -122.403135          NaN     H24              352312.0              NaN   \n",
       "3 -122.419004          NaN     H24              346882.0              NaN   \n",
       "4 -122.413641          NaN     H24              340024.0       10/10/2001   \n",
       "\n",
       "                      owner_name                 owner_address     owner_city  \\\n",
       "0                   Tiramisu LLC                  33 Belden St  San Francisco   \n",
       "1            24 Hour Fitness Inc  1200 Van Ness Ave, 3rd Floor  San Francisco   \n",
       "2  OMNI San Francisco Hotel Corp  500 California St, 2nd Floor  San Francisco   \n",
       "3               Norman Antiforda           2801 Leavenworth St  San Francisco   \n",
       "4      HARB, CHARLES AND KRISTIN                  1150 SANCHEZ           S.F.   \n",
       "\n",
       "  owner_state owner_zip  \n",
       "0          CA     94104  \n",
       "1          CA     94109  \n",
       "2          CA     94104  \n",
       "3          CA     94133  \n",
       "4          CA     94114  "
      ]
     },
     "execution_count": 63,
     "metadata": {},
     "output_type": "execute_result"
    }
   ],
   "source": [
    "businesses = pd.read_csv('./data/businesses_plus.csv', parse_dates=True, dtype={'phone_number': str})\n",
    "businesses.head()\n",
    "# dtype casts the column as a specific data type"
   ]
  },
  {
   "cell_type": "code",
   "execution_count": 64,
   "metadata": {
    "collapsed": true
   },
   "outputs": [
    {
     "data": {
      "text/plain": [
       "(7544, 16)"
      ]
     },
     "execution_count": 64,
     "metadata": {},
     "output_type": "execute_result"
    }
   ],
   "source": [
    "businesses.shape # get a quick idea of how many businesses we have"
   ]
  },
  {
   "cell_type": "code",
   "execution_count": 65,
   "metadata": {
    "collapsed": true
   },
   "outputs": [
    {
     "name": "stdout",
     "output_type": "stream",
     "text": [
      "15 business_ids are repeated. Here they are:\n"
     ]
    },
    {
     "data": {
      "text/html": [
       "<div>\n",
       "<table border=\"1\" class=\"dataframe\">\n",
       "  <thead>\n",
       "    <tr style=\"text-align: right;\">\n",
       "      <th></th>\n",
       "      <th>business_id</th>\n",
       "      <th>name</th>\n",
       "      <th>address</th>\n",
       "      <th>city</th>\n",
       "      <th>postal_code</th>\n",
       "      <th>latitude</th>\n",
       "      <th>longitude</th>\n",
       "      <th>phone_number</th>\n",
       "      <th>TaxCode</th>\n",
       "      <th>business_certificate</th>\n",
       "      <th>application_date</th>\n",
       "      <th>owner_name</th>\n",
       "      <th>owner_address</th>\n",
       "      <th>owner_city</th>\n",
       "      <th>owner_state</th>\n",
       "      <th>owner_zip</th>\n",
       "    </tr>\n",
       "  </thead>\n",
       "  <tbody>\n",
       "    <tr>\n",
       "      <th>1022</th>\n",
       "      <td>3543</td>\n",
       "      <td>Penang Garden  Restaurant</td>\n",
       "      <td>728 Washington St</td>\n",
       "      <td>San Francisco</td>\n",
       "      <td>94108</td>\n",
       "      <td>37.795288</td>\n",
       "      <td>-122.405543</td>\n",
       "      <td>NaN</td>\n",
       "      <td>H26</td>\n",
       "      <td>NaN</td>\n",
       "      <td>07/26/2004</td>\n",
       "      <td>Lamps of China Inc</td>\n",
       "      <td>728 Washington St</td>\n",
       "      <td>San Francisco</td>\n",
       "      <td>CA</td>\n",
       "      <td>94108</td>\n",
       "    </tr>\n",
       "    <tr>\n",
       "      <th>1023</th>\n",
       "      <td>3543</td>\n",
       "      <td>Penang Garden  Restaurant</td>\n",
       "      <td>728 Washington St</td>\n",
       "      <td>San Francisco</td>\n",
       "      <td>94108</td>\n",
       "      <td>37.795288</td>\n",
       "      <td>-122.405543</td>\n",
       "      <td>NaN</td>\n",
       "      <td>H26</td>\n",
       "      <td>NaN</td>\n",
       "      <td>07/26/2004</td>\n",
       "      <td>Fortune Family Six, Inc</td>\n",
       "      <td>728 Washington St</td>\n",
       "      <td>San Francisco</td>\n",
       "      <td>CA</td>\n",
       "      <td>94108</td>\n",
       "    </tr>\n",
       "    <tr>\n",
       "      <th>1030</th>\n",
       "      <td>3566</td>\n",
       "      <td>Mandalay Restaurant</td>\n",
       "      <td>4348 California Street</td>\n",
       "      <td>SAN FRANCISCO</td>\n",
       "      <td>94118</td>\n",
       "      <td>37.785117</td>\n",
       "      <td>-122.464041</td>\n",
       "      <td>NaN</td>\n",
       "      <td>H26</td>\n",
       "      <td>NaN</td>\n",
       "      <td>03/31/2005</td>\n",
       "      <td>SANDRA TUNG</td>\n",
       "      <td>4348 CALIFORNIA ST</td>\n",
       "      <td>SF</td>\n",
       "      <td>CA</td>\n",
       "      <td>94118</td>\n",
       "    </tr>\n",
       "    <tr>\n",
       "      <th>1031</th>\n",
       "      <td>3566</td>\n",
       "      <td>Mandalay Restaurant</td>\n",
       "      <td>4348 California Street</td>\n",
       "      <td>SAN FRANCISCO</td>\n",
       "      <td>94118</td>\n",
       "      <td>37.785117</td>\n",
       "      <td>-122.464041</td>\n",
       "      <td>NaN</td>\n",
       "      <td>H26</td>\n",
       "      <td>379754.0</td>\n",
       "      <td>03/31/2005</td>\n",
       "      <td>GOLDEN MANDALAY INC</td>\n",
       "      <td>4348 CALIFORNIA ST</td>\n",
       "      <td>SF</td>\n",
       "      <td>CA</td>\n",
       "      <td>94118</td>\n",
       "    </tr>\n",
       "    <tr>\n",
       "      <th>1562</th>\n",
       "      <td>5301</td>\n",
       "      <td>Tacos San Buena</td>\n",
       "      <td>2598 Harrison St</td>\n",
       "      <td>S.F.</td>\n",
       "      <td>94110</td>\n",
       "      <td>37.749851</td>\n",
       "      <td>-122.415121</td>\n",
       "      <td>+14155550404</td>\n",
       "      <td>H79</td>\n",
       "      <td>NaN</td>\n",
       "      <td>NaN</td>\n",
       "      <td>SANTANA , ESQUIVEL</td>\n",
       "      <td>2598 HARRISON ST</td>\n",
       "      <td>S.F.</td>\n",
       "      <td>CA</td>\n",
       "      <td>94110</td>\n",
       "    </tr>\n",
       "    <tr>\n",
       "      <th>1563</th>\n",
       "      <td>5301</td>\n",
       "      <td>Tacos San Buena</td>\n",
       "      <td>2598 Harrison St</td>\n",
       "      <td>S.F.</td>\n",
       "      <td>94110</td>\n",
       "      <td>37.749851</td>\n",
       "      <td>-122.415121</td>\n",
       "      <td>+14155550404</td>\n",
       "      <td>H79</td>\n",
       "      <td>NaN</td>\n",
       "      <td>NaN</td>\n",
       "      <td>Santana, Esquivel</td>\n",
       "      <td>180 Nyla Ave.</td>\n",
       "      <td>SSF</td>\n",
       "      <td>CA</td>\n",
       "      <td>94080</td>\n",
       "    </tr>\n",
       "    <tr>\n",
       "      <th>1759</th>\n",
       "      <td>5830</td>\n",
       "      <td>Theodore Roosevelt Middle School</td>\n",
       "      <td>460 Arguello Blvd</td>\n",
       "      <td>S.F.</td>\n",
       "      <td>94118</td>\n",
       "      <td>37.782383</td>\n",
       "      <td>-122.458926</td>\n",
       "      <td>+14155758446</td>\n",
       "      <td>H91</td>\n",
       "      <td>NaN</td>\n",
       "      <td>NaN</td>\n",
       "      <td>SFUSD</td>\n",
       "      <td>NaN</td>\n",
       "      <td>NaN</td>\n",
       "      <td>NaN</td>\n",
       "      <td>NaN</td>\n",
       "    </tr>\n",
       "    <tr>\n",
       "      <th>1760</th>\n",
       "      <td>5830</td>\n",
       "      <td>Theodore Roosevelt Middle School</td>\n",
       "      <td>460 Arguello Blvd</td>\n",
       "      <td>S.F.</td>\n",
       "      <td>94118</td>\n",
       "      <td>37.782383</td>\n",
       "      <td>-122.458926</td>\n",
       "      <td>+14155758446</td>\n",
       "      <td>H91</td>\n",
       "      <td>NaN</td>\n",
       "      <td>NaN</td>\n",
       "      <td>San Francisco Unified School District</td>\n",
       "      <td>460 Arguello Blvd.</td>\n",
       "      <td>San Francisco</td>\n",
       "      <td>CA</td>\n",
       "      <td>94118</td>\n",
       "    </tr>\n",
       "    <tr>\n",
       "      <th>2435</th>\n",
       "      <td>9463</td>\n",
       "      <td>Roli Roti</td>\n",
       "      <td>Ferry Building</td>\n",
       "      <td>San Francisco</td>\n",
       "      <td>94111</td>\n",
       "      <td>37.795184</td>\n",
       "      <td>-122.393819</td>\n",
       "      <td>NaN</td>\n",
       "      <td>H78</td>\n",
       "      <td>NaN</td>\n",
       "      <td>NaN</td>\n",
       "      <td>Rotisystems, Inc</td>\n",
       "      <td>Ferry Building</td>\n",
       "      <td>San Francisco</td>\n",
       "      <td>CA</td>\n",
       "      <td>94111</td>\n",
       "    </tr>\n",
       "    <tr>\n",
       "      <th>2436</th>\n",
       "      <td>9463</td>\n",
       "      <td>Roli Roti</td>\n",
       "      <td>Ferry Building</td>\n",
       "      <td>San Francisco</td>\n",
       "      <td>94111</td>\n",
       "      <td>37.795184</td>\n",
       "      <td>-122.393819</td>\n",
       "      <td>NaN</td>\n",
       "      <td>H78</td>\n",
       "      <td>375149.0</td>\n",
       "      <td>NaN</td>\n",
       "      <td>Odermatt, Thomas</td>\n",
       "      <td>7800 Edgewater Dr</td>\n",
       "      <td>Oakland</td>\n",
       "      <td>CA</td>\n",
       "      <td>94621</td>\n",
       "    </tr>\n",
       "    <tr>\n",
       "      <th>2976</th>\n",
       "      <td>33467</td>\n",
       "      <td>California Pizza Kitchen, Inc.</td>\n",
       "      <td>53 03rd St</td>\n",
       "      <td>SF</td>\n",
       "      <td>94103</td>\n",
       "      <td>37.786780</td>\n",
       "      <td>-122.402535</td>\n",
       "      <td>+14150345000</td>\n",
       "      <td>H26</td>\n",
       "      <td>195602.0</td>\n",
       "      <td>05/01/2007</td>\n",
       "      <td>California Pizza Kitchen, Inc. (Larry Flax and...</td>\n",
       "      <td>6053 West Century Blvd., 11th floor</td>\n",
       "      <td>Los Angeles</td>\n",
       "      <td>CA</td>\n",
       "      <td>90045</td>\n",
       "    </tr>\n",
       "    <tr>\n",
       "      <th>2977</th>\n",
       "      <td>33467</td>\n",
       "      <td>California Pizza Kitchen, Inc.</td>\n",
       "      <td>53 03rd St</td>\n",
       "      <td>SF</td>\n",
       "      <td>94103</td>\n",
       "      <td>37.786780</td>\n",
       "      <td>-122.402535</td>\n",
       "      <td>+14150345000</td>\n",
       "      <td>H26</td>\n",
       "      <td>195602.0</td>\n",
       "      <td>05/01/2007</td>\n",
       "      <td>California Pizza Kitchen, Inc.</td>\n",
       "      <td>6053 West Century Blvd., 11th Fl.</td>\n",
       "      <td>Los Angeles</td>\n",
       "      <td>CA</td>\n",
       "      <td>90045</td>\n",
       "    </tr>\n",
       "    <tr>\n",
       "      <th>3809</th>\n",
       "      <td>62797</td>\n",
       "      <td>BHL</td>\n",
       "      <td>2 Embarcadero Center  Street Level</td>\n",
       "      <td>NaN</td>\n",
       "      <td>NaN</td>\n",
       "      <td>37.795203</td>\n",
       "      <td>-122.398544</td>\n",
       "      <td>+14155240011</td>\n",
       "      <td>H24</td>\n",
       "      <td>447841.0</td>\n",
       "      <td>04/19/2010</td>\n",
       "      <td>BHL-SF LLC</td>\n",
       "      <td>45 Hyde Court #4</td>\n",
       "      <td>Daly City</td>\n",
       "      <td>CA</td>\n",
       "      <td>94015</td>\n",
       "    </tr>\n",
       "    <tr>\n",
       "      <th>3810</th>\n",
       "      <td>62797</td>\n",
       "      <td>BHL</td>\n",
       "      <td>2 Embarcadero Center  Street Level</td>\n",
       "      <td>NaN</td>\n",
       "      <td>NaN</td>\n",
       "      <td>37.795203</td>\n",
       "      <td>-122.398544</td>\n",
       "      <td>+14155240011</td>\n",
       "      <td>H24</td>\n",
       "      <td>447841.0</td>\n",
       "      <td>04/19/2010</td>\n",
       "      <td>BHL-SF LLC</td>\n",
       "      <td>45 Hyde Court #4</td>\n",
       "      <td>Daly City</td>\n",
       "      <td>CA</td>\n",
       "      <td>94115</td>\n",
       "    </tr>\n",
       "    <tr>\n",
       "      <th>4281</th>\n",
       "      <td>66698</td>\n",
       "      <td>Stanley's Steamers</td>\n",
       "      <td>Macys - Geary Entrance</td>\n",
       "      <td>NaN</td>\n",
       "      <td>NaN</td>\n",
       "      <td>0.000000</td>\n",
       "      <td>0.000000</td>\n",
       "      <td>NaN</td>\n",
       "      <td>H78</td>\n",
       "      <td>392127.0</td>\n",
       "      <td>NaN</td>\n",
       "      <td>SF Carts &amp; Concessions</td>\n",
       "      <td>9 Magee Court</td>\n",
       "      <td>Moraga</td>\n",
       "      <td>CA</td>\n",
       "      <td>94556</td>\n",
       "    </tr>\n",
       "    <tr>\n",
       "      <th>4282</th>\n",
       "      <td>66698</td>\n",
       "      <td>Stanley's Steamers</td>\n",
       "      <td>Macys - Geary Entrance</td>\n",
       "      <td>NaN</td>\n",
       "      <td>NaN</td>\n",
       "      <td>0.000000</td>\n",
       "      <td>0.000000</td>\n",
       "      <td>NaN</td>\n",
       "      <td>H78</td>\n",
       "      <td>NaN</td>\n",
       "      <td>NaN</td>\n",
       "      <td>SF Carts &amp; Concessions, Inc.</td>\n",
       "      <td>9 Magee Court</td>\n",
       "      <td>Moraga</td>\n",
       "      <td>CA</td>\n",
       "      <td>94556</td>\n",
       "    </tr>\n",
       "    <tr>\n",
       "      <th>4283</th>\n",
       "      <td>66698</td>\n",
       "      <td>Stanley's Steamers</td>\n",
       "      <td>Macys - Geary Entrance</td>\n",
       "      <td>NaN</td>\n",
       "      <td>NaN</td>\n",
       "      <td>0.000000</td>\n",
       "      <td>0.000000</td>\n",
       "      <td>NaN</td>\n",
       "      <td>H78</td>\n",
       "      <td>NaN</td>\n",
       "      <td>NaN</td>\n",
       "      <td>SF Carts &amp; Concessions, Inc.</td>\n",
       "      <td>9 Magee Court</td>\n",
       "      <td>Moraga</td>\n",
       "      <td>CA</td>\n",
       "      <td>94556</td>\n",
       "    </tr>\n",
       "    <tr>\n",
       "      <th>4284</th>\n",
       "      <td>66698</td>\n",
       "      <td>Stanley's Steamers</td>\n",
       "      <td>Macys - Geary Entrance</td>\n",
       "      <td>NaN</td>\n",
       "      <td>NaN</td>\n",
       "      <td>0.000000</td>\n",
       "      <td>0.000000</td>\n",
       "      <td>NaN</td>\n",
       "      <td>H78</td>\n",
       "      <td>392127.0</td>\n",
       "      <td>NaN</td>\n",
       "      <td>SF Carts and Concessions, Inc.</td>\n",
       "      <td>9 Magee Court</td>\n",
       "      <td>Moraga</td>\n",
       "      <td>CA</td>\n",
       "      <td>94556</td>\n",
       "    </tr>\n",
       "    <tr>\n",
       "      <th>4552</th>\n",
       "      <td>68390</td>\n",
       "      <td>Mission's Kitchen</td>\n",
       "      <td>2738 Mission St</td>\n",
       "      <td>San Francisco</td>\n",
       "      <td>94110</td>\n",
       "      <td>NaN</td>\n",
       "      <td>NaN</td>\n",
       "      <td>+14155641577</td>\n",
       "      <td>H25</td>\n",
       "      <td>309244.0</td>\n",
       "      <td>01/01/2012</td>\n",
       "      <td>Taquerias El Farolito, Inc</td>\n",
       "      <td>2738 Mission Street</td>\n",
       "      <td>San Francisco</td>\n",
       "      <td>Ca</td>\n",
       "      <td>94110</td>\n",
       "    </tr>\n",
       "    <tr>\n",
       "      <th>4553</th>\n",
       "      <td>68390</td>\n",
       "      <td>Mission's Kitchen</td>\n",
       "      <td>2738 Mission St</td>\n",
       "      <td>San Francisco</td>\n",
       "      <td>94110</td>\n",
       "      <td>NaN</td>\n",
       "      <td>NaN</td>\n",
       "      <td>+14155641577</td>\n",
       "      <td>H25</td>\n",
       "      <td>NaN</td>\n",
       "      <td>01/01/2012</td>\n",
       "      <td>Taquerias El Farolito, Inc</td>\n",
       "      <td>2738 Mission Street</td>\n",
       "      <td>San Francisco</td>\n",
       "      <td>Ca</td>\n",
       "      <td>94110</td>\n",
       "    </tr>\n",
       "    <tr>\n",
       "      <th>5445</th>\n",
       "      <td>75407</td>\n",
       "      <td>49 Square Catering</td>\n",
       "      <td>1760 Cesar Chavez St M</td>\n",
       "      <td>San Francisco</td>\n",
       "      <td>94124</td>\n",
       "      <td>NaN</td>\n",
       "      <td>NaN</td>\n",
       "      <td>NaN</td>\n",
       "      <td>H30</td>\n",
       "      <td>468045.0</td>\n",
       "      <td>07/17/2013</td>\n",
       "      <td>SF Foodlab LLC</td>\n",
       "      <td>1760 Cesar Chavez St. Ste M</td>\n",
       "      <td>San Francisco</td>\n",
       "      <td>CA</td>\n",
       "      <td>94124</td>\n",
       "    </tr>\n",
       "    <tr>\n",
       "      <th>5446</th>\n",
       "      <td>75407</td>\n",
       "      <td>49 Square Catering</td>\n",
       "      <td>1760 Cesar Chavez St M</td>\n",
       "      <td>San Francisco</td>\n",
       "      <td>94124</td>\n",
       "      <td>NaN</td>\n",
       "      <td>NaN</td>\n",
       "      <td>NaN</td>\n",
       "      <td>H30</td>\n",
       "      <td>468045.0</td>\n",
       "      <td>07/17/2013</td>\n",
       "      <td>SF FoodLab, LLC / Mark Walker, Matt Cohen, G. ...</td>\n",
       "      <td>1258 So. Van Ness Avenue</td>\n",
       "      <td>San Francisco</td>\n",
       "      <td>CA</td>\n",
       "      <td>94110</td>\n",
       "    </tr>\n",
       "    <tr>\n",
       "      <th>6381</th>\n",
       "      <td>80680</td>\n",
       "      <td>Thrive Juicery</td>\n",
       "      <td>1 Embarcadero</td>\n",
       "      <td>NaN</td>\n",
       "      <td>94111</td>\n",
       "      <td>NaN</td>\n",
       "      <td>NaN</td>\n",
       "      <td>+14151665783</td>\n",
       "      <td>H03</td>\n",
       "      <td>471462.0</td>\n",
       "      <td>10/07/2014</td>\n",
       "      <td>Thrive Clense, LLC</td>\n",
       "      <td>2260 North Point ST #6</td>\n",
       "      <td>San Francisco</td>\n",
       "      <td>CA</td>\n",
       "      <td>94123</td>\n",
       "    </tr>\n",
       "    <tr>\n",
       "      <th>6382</th>\n",
       "      <td>80680</td>\n",
       "      <td>Thrive Juicery</td>\n",
       "      <td>1 Embarcadero</td>\n",
       "      <td>NaN</td>\n",
       "      <td>94111</td>\n",
       "      <td>NaN</td>\n",
       "      <td>NaN</td>\n",
       "      <td>+14151665783</td>\n",
       "      <td>H03</td>\n",
       "      <td>471462.0</td>\n",
       "      <td>10/07/2014</td>\n",
       "      <td>Thrive Cleanse, LLC</td>\n",
       "      <td>2260 North Point  St. # 6</td>\n",
       "      <td>San Francisco</td>\n",
       "      <td>CA</td>\n",
       "      <td>94123</td>\n",
       "    </tr>\n",
       "    <tr>\n",
       "      <th>6398</th>\n",
       "      <td>80829</td>\n",
       "      <td>Korean BobCha#2</td>\n",
       "      <td>428 11th St</td>\n",
       "      <td>san Francisco CA</td>\n",
       "      <td>94014</td>\n",
       "      <td>NaN</td>\n",
       "      <td>NaN</td>\n",
       "      <td>+14155735897</td>\n",
       "      <td>H79</td>\n",
       "      <td>476141.0</td>\n",
       "      <td>10/21/2014</td>\n",
       "      <td>Seung Kyun Han</td>\n",
       "      <td>776 Easton Ave</td>\n",
       "      <td>San Bruno</td>\n",
       "      <td>CA</td>\n",
       "      <td>94060</td>\n",
       "    </tr>\n",
       "    <tr>\n",
       "      <th>6399</th>\n",
       "      <td>80829</td>\n",
       "      <td>Korean BobCha#2</td>\n",
       "      <td>428 11th St</td>\n",
       "      <td>san Francisco CA</td>\n",
       "      <td>94014</td>\n",
       "      <td>NaN</td>\n",
       "      <td>NaN</td>\n",
       "      <td>+14155735897</td>\n",
       "      <td>H79</td>\n",
       "      <td>NaN</td>\n",
       "      <td>10/21/2014</td>\n",
       "      <td>Seung Kyun Han</td>\n",
       "      <td>776 Easton Ave</td>\n",
       "      <td>San Bruno</td>\n",
       "      <td>CA</td>\n",
       "      <td>94060</td>\n",
       "    </tr>\n",
       "    <tr>\n",
       "      <th>6537</th>\n",
       "      <td>81516</td>\n",
       "      <td>Senor Sisig #2</td>\n",
       "      <td>Off The Grid</td>\n",
       "      <td>SF, CA</td>\n",
       "      <td>NaN</td>\n",
       "      <td>NaN</td>\n",
       "      <td>NaN</td>\n",
       "      <td>+14155605048</td>\n",
       "      <td>H79</td>\n",
       "      <td>490061.0</td>\n",
       "      <td>12/30/2014</td>\n",
       "      <td>Senor Sisig Corp</td>\n",
       "      <td>2563 20th Ave</td>\n",
       "      <td>SF</td>\n",
       "      <td>CA</td>\n",
       "      <td>94116</td>\n",
       "    </tr>\n",
       "    <tr>\n",
       "      <th>6538</th>\n",
       "      <td>81516</td>\n",
       "      <td>Senor Sisig #2</td>\n",
       "      <td>Off The Grid</td>\n",
       "      <td>SF, CA</td>\n",
       "      <td>NaN</td>\n",
       "      <td>NaN</td>\n",
       "      <td>NaN</td>\n",
       "      <td>+14155605048</td>\n",
       "      <td>H79</td>\n",
       "      <td>NaN</td>\n",
       "      <td>12/30/2014</td>\n",
       "      <td>Senor Sisig Corp</td>\n",
       "      <td>2563 20th Ave</td>\n",
       "      <td>SF</td>\n",
       "      <td>CA</td>\n",
       "      <td>94116</td>\n",
       "    </tr>\n",
       "    <tr>\n",
       "      <th>7144</th>\n",
       "      <td>84457</td>\n",
       "      <td>The Furious Baker</td>\n",
       "      <td>306 Lawton St</td>\n",
       "      <td>San Francisco</td>\n",
       "      <td>94122</td>\n",
       "      <td>NaN</td>\n",
       "      <td>NaN</td>\n",
       "      <td>NaN</td>\n",
       "      <td>H99</td>\n",
       "      <td>1015880.0</td>\n",
       "      <td>08/05/2015</td>\n",
       "      <td>Lori Smallwood</td>\n",
       "      <td>306 Lawton Street</td>\n",
       "      <td>San Francisco</td>\n",
       "      <td>CA</td>\n",
       "      <td>94122</td>\n",
       "    </tr>\n",
       "    <tr>\n",
       "      <th>7145</th>\n",
       "      <td>84457</td>\n",
       "      <td>The Furious Baker</td>\n",
       "      <td>306 Lawton St</td>\n",
       "      <td>San Francisco</td>\n",
       "      <td>94122</td>\n",
       "      <td>NaN</td>\n",
       "      <td>NaN</td>\n",
       "      <td>NaN</td>\n",
       "      <td>H99</td>\n",
       "      <td>NaN</td>\n",
       "      <td>08/05/2015</td>\n",
       "      <td>Lori Smallwood</td>\n",
       "      <td>306 Lawton Street</td>\n",
       "      <td>San Francisco</td>\n",
       "      <td>CA</td>\n",
       "      <td>94122</td>\n",
       "    </tr>\n",
       "    <tr>\n",
       "      <th>7157</th>\n",
       "      <td>84527</td>\n",
       "      <td>San Francisco Organic</td>\n",
       "      <td>1298 Shotwell St  D</td>\n",
       "      <td>San Francisco</td>\n",
       "      <td>94110</td>\n",
       "      <td>NaN</td>\n",
       "      <td>NaN</td>\n",
       "      <td>NaN</td>\n",
       "      <td>H78</td>\n",
       "      <td>448371.0</td>\n",
       "      <td>08/10/2015</td>\n",
       "      <td>Chu Chu's Goods Inc.</td>\n",
       "      <td>90 Stoneman Street</td>\n",
       "      <td>San Francisco</td>\n",
       "      <td>CA</td>\n",
       "      <td>94110</td>\n",
       "    </tr>\n",
       "    <tr>\n",
       "      <th>7158</th>\n",
       "      <td>84527</td>\n",
       "      <td>San Francisco Organic</td>\n",
       "      <td>1298 Shotwell St  D</td>\n",
       "      <td>San Francisco</td>\n",
       "      <td>94110</td>\n",
       "      <td>NaN</td>\n",
       "      <td>NaN</td>\n",
       "      <td>NaN</td>\n",
       "      <td>H78</td>\n",
       "      <td>NaN</td>\n",
       "      <td>08/10/2015</td>\n",
       "      <td>Chu Chu's Goods Inc.</td>\n",
       "      <td>90 Stoneman Street</td>\n",
       "      <td>San Francisco</td>\n",
       "      <td>CA</td>\n",
       "      <td>94110</td>\n",
       "    </tr>\n",
       "  </tbody>\n",
       "</table>\n",
       "</div>"
      ],
      "text/plain": [
       "      business_id                              name  \\\n",
       "1022         3543         Penang Garden  Restaurant   \n",
       "1023         3543         Penang Garden  Restaurant   \n",
       "1030         3566               Mandalay Restaurant   \n",
       "1031         3566               Mandalay Restaurant   \n",
       "1562         5301                   Tacos San Buena   \n",
       "1563         5301                   Tacos San Buena   \n",
       "1759         5830  Theodore Roosevelt Middle School   \n",
       "1760         5830  Theodore Roosevelt Middle School   \n",
       "2435         9463                         Roli Roti   \n",
       "2436         9463                         Roli Roti   \n",
       "2976        33467    California Pizza Kitchen, Inc.   \n",
       "2977        33467    California Pizza Kitchen, Inc.   \n",
       "3809        62797                               BHL   \n",
       "3810        62797                               BHL   \n",
       "4281        66698                Stanley's Steamers   \n",
       "4282        66698                Stanley's Steamers   \n",
       "4283        66698                Stanley's Steamers   \n",
       "4284        66698                Stanley's Steamers   \n",
       "4552        68390                 Mission's Kitchen   \n",
       "4553        68390                 Mission's Kitchen   \n",
       "5445        75407                49 Square Catering   \n",
       "5446        75407                49 Square Catering   \n",
       "6381        80680                    Thrive Juicery   \n",
       "6382        80680                    Thrive Juicery   \n",
       "6398        80829                   Korean BobCha#2   \n",
       "6399        80829                   Korean BobCha#2   \n",
       "6537        81516                    Senor Sisig #2   \n",
       "6538        81516                    Senor Sisig #2   \n",
       "7144        84457                 The Furious Baker   \n",
       "7145        84457                 The Furious Baker   \n",
       "7157        84527             San Francisco Organic   \n",
       "7158        84527             San Francisco Organic   \n",
       "\n",
       "                                 address              city postal_code  \\\n",
       "1022                  728 Washington St      San Francisco       94108   \n",
       "1023                  728 Washington St      San Francisco       94108   \n",
       "1030              4348 California Street     SAN FRANCISCO       94118   \n",
       "1031              4348 California Street     SAN FRANCISCO       94118   \n",
       "1562                   2598 Harrison St               S.F.       94110   \n",
       "1563                   2598 Harrison St               S.F.       94110   \n",
       "1759                   460 Arguello Blvd              S.F.       94118   \n",
       "1760                   460 Arguello Blvd              S.F.       94118   \n",
       "2435                      Ferry Building     San Francisco       94111   \n",
       "2436                      Ferry Building     San Francisco       94111   \n",
       "2976                        53 03rd St                  SF       94103   \n",
       "2977                        53 03rd St                  SF       94103   \n",
       "3809  2 Embarcadero Center  Street Level               NaN         NaN   \n",
       "3810  2 Embarcadero Center  Street Level               NaN         NaN   \n",
       "4281            Macys - Geary Entrance                 NaN         NaN   \n",
       "4282            Macys - Geary Entrance                 NaN         NaN   \n",
       "4283            Macys - Geary Entrance                 NaN         NaN   \n",
       "4284            Macys - Geary Entrance                 NaN         NaN   \n",
       "4552                    2738 Mission St      San Francisco       94110   \n",
       "4553                    2738 Mission St      San Francisco       94110   \n",
       "5445              1760 Cesar Chavez St M     San Francisco       94124   \n",
       "5446              1760 Cesar Chavez St M     San Francisco       94124   \n",
       "6381                     1 Embarcadero                 NaN       94111   \n",
       "6382                     1 Embarcadero                 NaN       94111   \n",
       "6398                        428 11th St   san Francisco CA       94014   \n",
       "6399                        428 11th St   san Francisco CA       94014   \n",
       "6537                      Off The Grid              SF, CA         NaN   \n",
       "6538                      Off The Grid              SF, CA         NaN   \n",
       "7144                      306 Lawton St      San Francisco       94122   \n",
       "7145                      306 Lawton St      San Francisco       94122   \n",
       "7157                 1298 Shotwell St  D     San Francisco       94110   \n",
       "7158                 1298 Shotwell St  D     San Francisco       94110   \n",
       "\n",
       "       latitude   longitude  phone_number TaxCode  business_certificate  \\\n",
       "1022  37.795288 -122.405543           NaN     H26                   NaN   \n",
       "1023  37.795288 -122.405543           NaN     H26                   NaN   \n",
       "1030  37.785117 -122.464041           NaN     H26                   NaN   \n",
       "1031  37.785117 -122.464041           NaN     H26              379754.0   \n",
       "1562  37.749851 -122.415121  +14155550404     H79                   NaN   \n",
       "1563  37.749851 -122.415121  +14155550404     H79                   NaN   \n",
       "1759  37.782383 -122.458926  +14155758446     H91                   NaN   \n",
       "1760  37.782383 -122.458926  +14155758446     H91                   NaN   \n",
       "2435  37.795184 -122.393819           NaN     H78                   NaN   \n",
       "2436  37.795184 -122.393819           NaN     H78              375149.0   \n",
       "2976  37.786780 -122.402535  +14150345000     H26              195602.0   \n",
       "2977  37.786780 -122.402535  +14150345000     H26              195602.0   \n",
       "3809  37.795203 -122.398544  +14155240011     H24              447841.0   \n",
       "3810  37.795203 -122.398544  +14155240011     H24              447841.0   \n",
       "4281   0.000000    0.000000           NaN     H78              392127.0   \n",
       "4282   0.000000    0.000000           NaN     H78                   NaN   \n",
       "4283   0.000000    0.000000           NaN     H78                   NaN   \n",
       "4284   0.000000    0.000000           NaN     H78              392127.0   \n",
       "4552        NaN         NaN  +14155641577     H25              309244.0   \n",
       "4553        NaN         NaN  +14155641577     H25                   NaN   \n",
       "5445        NaN         NaN           NaN     H30              468045.0   \n",
       "5446        NaN         NaN           NaN     H30              468045.0   \n",
       "6381        NaN         NaN  +14151665783     H03              471462.0   \n",
       "6382        NaN         NaN  +14151665783     H03              471462.0   \n",
       "6398        NaN         NaN  +14155735897     H79              476141.0   \n",
       "6399        NaN         NaN  +14155735897     H79                   NaN   \n",
       "6537        NaN         NaN  +14155605048     H79              490061.0   \n",
       "6538        NaN         NaN  +14155605048     H79                   NaN   \n",
       "7144        NaN         NaN           NaN     H99             1015880.0   \n",
       "7145        NaN         NaN           NaN     H99                   NaN   \n",
       "7157        NaN         NaN           NaN     H78              448371.0   \n",
       "7158        NaN         NaN           NaN     H78                   NaN   \n",
       "\n",
       "     application_date                                         owner_name  \\\n",
       "1022       07/26/2004                                 Lamps of China Inc   \n",
       "1023       07/26/2004                            Fortune Family Six, Inc   \n",
       "1030       03/31/2005                                        SANDRA TUNG   \n",
       "1031       03/31/2005                                GOLDEN MANDALAY INC   \n",
       "1562              NaN                                 SANTANA , ESQUIVEL   \n",
       "1563              NaN                                  Santana, Esquivel   \n",
       "1759              NaN                                              SFUSD   \n",
       "1760              NaN              San Francisco Unified School District   \n",
       "2435              NaN                                   Rotisystems, Inc   \n",
       "2436              NaN                                   Odermatt, Thomas   \n",
       "2976       05/01/2007  California Pizza Kitchen, Inc. (Larry Flax and...   \n",
       "2977       05/01/2007                     California Pizza Kitchen, Inc.   \n",
       "3809       04/19/2010                                         BHL-SF LLC   \n",
       "3810       04/19/2010                                         BHL-SF LLC   \n",
       "4281              NaN                             SF Carts & Concessions   \n",
       "4282              NaN                       SF Carts & Concessions, Inc.   \n",
       "4283              NaN                       SF Carts & Concessions, Inc.   \n",
       "4284              NaN                     SF Carts and Concessions, Inc.   \n",
       "4552       01/01/2012                         Taquerias El Farolito, Inc   \n",
       "4553       01/01/2012                         Taquerias El Farolito, Inc   \n",
       "5445       07/17/2013                                     SF Foodlab LLC   \n",
       "5446       07/17/2013  SF FoodLab, LLC / Mark Walker, Matt Cohen, G. ...   \n",
       "6381       10/07/2014                                 Thrive Clense, LLC   \n",
       "6382       10/07/2014                                Thrive Cleanse, LLC   \n",
       "6398       10/21/2014                                     Seung Kyun Han   \n",
       "6399       10/21/2014                                     Seung Kyun Han   \n",
       "6537       12/30/2014                                   Senor Sisig Corp   \n",
       "6538       12/30/2014                                   Senor Sisig Corp   \n",
       "7144       08/05/2015                                     Lori Smallwood   \n",
       "7145       08/05/2015                                     Lori Smallwood   \n",
       "7157       08/10/2015                               Chu Chu's Goods Inc.   \n",
       "7158       08/10/2015                               Chu Chu's Goods Inc.   \n",
       "\n",
       "                            owner_address     owner_city owner_state owner_zip  \n",
       "1022                    728 Washington St  San Francisco          CA     94108  \n",
       "1023                    728 Washington St  San Francisco          CA     94108  \n",
       "1030                   4348 CALIFORNIA ST             SF          CA     94118  \n",
       "1031                   4348 CALIFORNIA ST             SF          CA     94118  \n",
       "1562                     2598 HARRISON ST           S.F.          CA     94110  \n",
       "1563                        180 Nyla Ave.            SSF          CA     94080  \n",
       "1759                                  NaN            NaN         NaN       NaN  \n",
       "1760                   460 Arguello Blvd.  San Francisco          CA     94118  \n",
       "2435                       Ferry Building  San Francisco          CA     94111  \n",
       "2436                    7800 Edgewater Dr        Oakland          CA     94621  \n",
       "2976  6053 West Century Blvd., 11th floor    Los Angeles          CA     90045  \n",
       "2977    6053 West Century Blvd., 11th Fl.    Los Angeles          CA     90045  \n",
       "3809                     45 Hyde Court #4      Daly City          CA     94015  \n",
       "3810                     45 Hyde Court #4      Daly City          CA     94115  \n",
       "4281                        9 Magee Court         Moraga          CA     94556  \n",
       "4282                        9 Magee Court         Moraga          CA     94556  \n",
       "4283                        9 Magee Court         Moraga          CA     94556  \n",
       "4284                        9 Magee Court         Moraga          CA     94556  \n",
       "4552                  2738 Mission Street  San Francisco          Ca     94110  \n",
       "4553                  2738 Mission Street  San Francisco          Ca     94110  \n",
       "5445          1760 Cesar Chavez St. Ste M  San Francisco          CA     94124  \n",
       "5446             1258 So. Van Ness Avenue  San Francisco          CA     94110  \n",
       "6381               2260 North Point ST #6  San Francisco          CA     94123  \n",
       "6382            2260 North Point  St. # 6  San Francisco          CA     94123  \n",
       "6398                       776 Easton Ave      San Bruno          CA     94060  \n",
       "6399                       776 Easton Ave      San Bruno          CA     94060  \n",
       "6537                        2563 20th Ave             SF          CA     94116  \n",
       "6538                        2563 20th Ave             SF          CA     94116  \n",
       "7144                    306 Lawton Street  San Francisco          CA     94122  \n",
       "7145                    306 Lawton Street  San Francisco          CA     94122  \n",
       "7157                   90 Stoneman Street  San Francisco          CA     94110  \n",
       "7158                   90 Stoneman Street  San Francisco          CA     94110  "
      ]
     },
     "execution_count": 65,
     "metadata": {},
     "output_type": "execute_result"
    }
   ],
   "source": [
    "id_counts = businesses.business_id.value_counts() # how many times does each business_id appear?\n",
    "repeat_ids = id_counts[id_counts > 1].index # find the business_ids that repeat\n",
    "print '%d business_ids are repeated. Here they are:' % len(repeat_ids)\n",
    "businesses[businesses.business_id.isin(repeat_ids)]"
   ]
  },
  {
   "cell_type": "code",
   "execution_count": 66,
   "metadata": {
    "collapsed": false
   },
   "outputs": [],
   "source": [
    "# looks like 15 businesses are repeated\n",
    "# for each business_id, I decided to keep only the first row it appears\n",
    "businesses = businesses.drop_duplicates('business_id')"
   ]
  },
  {
   "cell_type": "code",
   "execution_count": 67,
   "metadata": {
    "collapsed": true
   },
   "outputs": [
    {
     "data": {
      "text/plain": [
       "(7527, 16)"
      ]
     },
     "execution_count": 67,
     "metadata": {},
     "output_type": "execute_result"
    }
   ],
   "source": [
    "# now we have fewer rows\n",
    "businesses.shape"
   ]
  },
  {
   "cell_type": "code",
   "execution_count": 68,
   "metadata": {
    "collapsed": true
   },
   "outputs": [
    {
     "data": {
      "text/plain": [
       "2047     1\n",
       "77191    1\n",
       "83314    1\n",
       "3443     1\n",
       "79220    1\n",
       "Name: business_id, dtype: int64"
      ]
     },
     "execution_count": 68,
     "metadata": {},
     "output_type": "execute_result"
    }
   ],
   "source": [
    "# confirm that no business_id appears more than once now\n",
    "businesses.business_id.value_counts().head()"
   ]
  },
  {
   "cell_type": "code",
   "execution_count": 69,
   "metadata": {
    "collapsed": true
   },
   "outputs": [
    {
     "data": {
      "text/html": [
       "<div>\n",
       "<table border=\"1\" class=\"dataframe\">\n",
       "  <thead>\n",
       "    <tr style=\"text-align: right;\">\n",
       "      <th></th>\n",
       "      <th>business_id</th>\n",
       "      <th>Score</th>\n",
       "      <th>date</th>\n",
       "      <th>type</th>\n",
       "    </tr>\n",
       "  </thead>\n",
       "  <tbody>\n",
       "    <tr>\n",
       "      <th>0</th>\n",
       "      <td>10</td>\n",
       "      <td>NaN</td>\n",
       "      <td>20140807</td>\n",
       "      <td>Reinspection/Followup</td>\n",
       "    </tr>\n",
       "    <tr>\n",
       "      <th>1</th>\n",
       "      <td>10</td>\n",
       "      <td>94.0</td>\n",
       "      <td>20140729</td>\n",
       "      <td>Routine - Unscheduled</td>\n",
       "    </tr>\n",
       "    <tr>\n",
       "      <th>2</th>\n",
       "      <td>10</td>\n",
       "      <td>NaN</td>\n",
       "      <td>20140124</td>\n",
       "      <td>Reinspection/Followup</td>\n",
       "    </tr>\n",
       "    <tr>\n",
       "      <th>3</th>\n",
       "      <td>10</td>\n",
       "      <td>92.0</td>\n",
       "      <td>20140114</td>\n",
       "      <td>Routine - Unscheduled</td>\n",
       "    </tr>\n",
       "    <tr>\n",
       "      <th>4</th>\n",
       "      <td>19</td>\n",
       "      <td>94.0</td>\n",
       "      <td>20141110</td>\n",
       "      <td>Routine - Unscheduled</td>\n",
       "    </tr>\n",
       "  </tbody>\n",
       "</table>\n",
       "</div>"
      ],
      "text/plain": [
       "   business_id  Score      date                   type\n",
       "0           10    NaN  20140807  Reinspection/Followup\n",
       "1           10   94.0  20140729  Routine - Unscheduled\n",
       "2           10    NaN  20140124  Reinspection/Followup\n",
       "3           10   92.0  20140114  Routine - Unscheduled\n",
       "4           19   94.0  20141110  Routine - Unscheduled"
      ]
     },
     "execution_count": 69,
     "metadata": {},
     "output_type": "execute_result"
    }
   ],
   "source": [
    "inspections = pd.read_csv('./data/inspections_plus.csv', parse_dates=True)\n",
    "inspections.head()"
   ]
  },
  {
   "cell_type": "code",
   "execution_count": 73,
   "metadata": {
    "collapsed": true
   },
   "outputs": [
    {
     "data": {
      "text/plain": [
       "(27285, 4)"
      ]
     },
     "execution_count": 73,
     "metadata": {},
     "output_type": "execute_result"
    }
   ],
   "source": [
    "inspections.shape"
   ]
  },
  {
   "cell_type": "code",
   "execution_count": 74,
   "metadata": {
    "collapsed": true
   },
   "outputs": [
    {
     "data": {
      "text/plain": [
       "business_id        0\n",
       "Score          12022\n",
       "date               0\n",
       "type               0\n",
       "dtype: int64"
      ]
     },
     "execution_count": 74,
     "metadata": {},
     "output_type": "execute_result"
    }
   ],
   "source": [
    "# quick look at the missing value situation\n",
    "inspections.isnull().sum()"
   ]
  },
  {
   "cell_type": "code",
   "execution_count": 75,
   "metadata": {
    "collapsed": true
   },
   "outputs": [
    {
     "data": {
      "text/html": [
       "<div>\n",
       "<table border=\"1\" class=\"dataframe\">\n",
       "  <thead>\n",
       "    <tr style=\"text-align: right;\">\n",
       "      <th></th>\n",
       "      <th>business_id</th>\n",
       "      <th>date</th>\n",
       "      <th>ViolationTypeID</th>\n",
       "      <th>risk_category</th>\n",
       "      <th>description</th>\n",
       "    </tr>\n",
       "  </thead>\n",
       "  <tbody>\n",
       "    <tr>\n",
       "      <th>0</th>\n",
       "      <td>10</td>\n",
       "      <td>20140114</td>\n",
       "      <td>103154</td>\n",
       "      <td>Low Risk</td>\n",
       "      <td>Unclean or degraded floors walls or ceilings</td>\n",
       "    </tr>\n",
       "    <tr>\n",
       "      <th>1</th>\n",
       "      <td>10</td>\n",
       "      <td>20140114</td>\n",
       "      <td>103119</td>\n",
       "      <td>Moderate Risk</td>\n",
       "      <td>Inadequate and inaccessible handwashing facili...</td>\n",
       "    </tr>\n",
       "    <tr>\n",
       "      <th>2</th>\n",
       "      <td>10</td>\n",
       "      <td>20140114</td>\n",
       "      <td>103145</td>\n",
       "      <td>Low Risk</td>\n",
       "      <td>Improper storage of equipment utensils or linens</td>\n",
       "    </tr>\n",
       "    <tr>\n",
       "      <th>3</th>\n",
       "      <td>10</td>\n",
       "      <td>20140729</td>\n",
       "      <td>103129</td>\n",
       "      <td>Moderate Risk</td>\n",
       "      <td>Insufficient hot water or running water</td>\n",
       "    </tr>\n",
       "    <tr>\n",
       "      <th>4</th>\n",
       "      <td>10</td>\n",
       "      <td>20140729</td>\n",
       "      <td>103144</td>\n",
       "      <td>Low Risk</td>\n",
       "      <td>Unapproved or unmaintained equipment or utensils</td>\n",
       "    </tr>\n",
       "  </tbody>\n",
       "</table>\n",
       "</div>"
      ],
      "text/plain": [
       "   business_id      date  ViolationTypeID  risk_category  \\\n",
       "0           10  20140114           103154       Low Risk   \n",
       "1           10  20140114           103119  Moderate Risk   \n",
       "2           10  20140114           103145       Low Risk   \n",
       "3           10  20140729           103129  Moderate Risk   \n",
       "4           10  20140729           103144       Low Risk   \n",
       "\n",
       "                                         description  \n",
       "0       Unclean or degraded floors walls or ceilings  \n",
       "1  Inadequate and inaccessible handwashing facili...  \n",
       "2   Improper storage of equipment utensils or linens  \n",
       "3            Insufficient hot water or running water  \n",
       "4   Unapproved or unmaintained equipment or utensils  "
      ]
     },
     "execution_count": 75,
     "metadata": {},
     "output_type": "execute_result"
    }
   ],
   "source": [
    "violations = pd.read_csv('./data/violations_plus.csv', parse_dates=True)\n",
    "violations.head()"
   ]
  },
  {
   "cell_type": "code",
   "execution_count": 76,
   "metadata": {
    "collapsed": true
   },
   "outputs": [
    {
     "data": {
      "text/plain": [
       "(39720, 5)"
      ]
     },
     "execution_count": 76,
     "metadata": {},
     "output_type": "execute_result"
    }
   ],
   "source": [
    "violations.shape"
   ]
  },
  {
   "cell_type": "code",
   "execution_count": 77,
   "metadata": {
    "collapsed": true
   },
   "outputs": [
    {
     "data": {
      "text/plain": [
       "business_id         0\n",
       "date                0\n",
       "ViolationTypeID     0\n",
       "risk_category      10\n",
       "description        10\n",
       "dtype: int64"
      ]
     },
     "execution_count": 77,
     "metadata": {},
     "output_type": "execute_result"
    }
   ],
   "source": [
    "# quick look at the missing value situation\n",
    "violations.isnull().sum()"
   ]
  },
  {
   "cell_type": "code",
   "execution_count": 78,
   "metadata": {
    "collapsed": false
   },
   "outputs": [],
   "source": [
    "# 1 Combine the three dataframes into one data frame called restaurant_scores\n",
    "# Hint: http://pandas.pydata.org/pandas-docs/stable/merging.html"
   ]
  },
  {
   "cell_type": "code",
   "execution_count": 79,
   "metadata": {
    "collapsed": false
   },
   "outputs": [],
   "source": [
    "# merge the first two dataframes on the column business_id. \n",
    "# I decided to do an inner join. This means if the business_id doesn't appear in inspections I don't include it. Similary\n",
    "# if there is an inspection for which the business_id is not found in businesses, I don't include that inspection either.\n",
    "business_inspections = pd.merge(businesses, inspections, on='business_id')\n",
    "\n",
    "# next we merge business_inspections with violations\n",
    "# there is no feature like, say inspection_id, so I decided to join the two dataframes on the columns they share\n",
    "# they share two columns: business_id, date\n",
    "restaurant_scores = pd.merge(business_inspections, violations, on = ['business_id','date'])\n"
   ]
  },
  {
   "cell_type": "code",
   "execution_count": 81,
   "metadata": {
    "collapsed": true
   },
   "outputs": [
    {
     "data": {
      "text/html": [
       "<div>\n",
       "<table border=\"1\" class=\"dataframe\">\n",
       "  <thead>\n",
       "    <tr style=\"text-align: right;\">\n",
       "      <th></th>\n",
       "      <th>business_id</th>\n",
       "      <th>date</th>\n",
       "      <th>ViolationTypeID</th>\n",
       "    </tr>\n",
       "  </thead>\n",
       "  <tbody>\n",
       "    <tr>\n",
       "      <th>0</th>\n",
       "      <td>10</td>\n",
       "      <td>20140729</td>\n",
       "      <td>103129</td>\n",
       "    </tr>\n",
       "    <tr>\n",
       "      <th>1</th>\n",
       "      <td>10</td>\n",
       "      <td>20140729</td>\n",
       "      <td>103144</td>\n",
       "    </tr>\n",
       "    <tr>\n",
       "      <th>2</th>\n",
       "      <td>10</td>\n",
       "      <td>20140114</td>\n",
       "      <td>103154</td>\n",
       "    </tr>\n",
       "    <tr>\n",
       "      <th>3</th>\n",
       "      <td>10</td>\n",
       "      <td>20140114</td>\n",
       "      <td>103119</td>\n",
       "    </tr>\n",
       "    <tr>\n",
       "      <th>4</th>\n",
       "      <td>10</td>\n",
       "      <td>20140114</td>\n",
       "      <td>103145</td>\n",
       "    </tr>\n",
       "    <tr>\n",
       "      <th>5</th>\n",
       "      <td>19</td>\n",
       "      <td>20141110</td>\n",
       "      <td>103145</td>\n",
       "    </tr>\n",
       "    <tr>\n",
       "      <th>6</th>\n",
       "      <td>19</td>\n",
       "      <td>20141110</td>\n",
       "      <td>103116</td>\n",
       "    </tr>\n",
       "    <tr>\n",
       "      <th>7</th>\n",
       "      <td>19</td>\n",
       "      <td>20140214</td>\n",
       "      <td>103156</td>\n",
       "    </tr>\n",
       "    <tr>\n",
       "      <th>8</th>\n",
       "      <td>19</td>\n",
       "      <td>20140214</td>\n",
       "      <td>103124</td>\n",
       "    </tr>\n",
       "    <tr>\n",
       "      <th>9</th>\n",
       "      <td>19</td>\n",
       "      <td>20130904</td>\n",
       "      <td>103133</td>\n",
       "    </tr>\n",
       "  </tbody>\n",
       "</table>\n",
       "</div>"
      ],
      "text/plain": [
       "   business_id      date  ViolationTypeID\n",
       "0           10  20140729           103129\n",
       "1           10  20140729           103144\n",
       "2           10  20140114           103154\n",
       "3           10  20140114           103119\n",
       "4           10  20140114           103145\n",
       "5           19  20141110           103145\n",
       "6           19  20141110           103116\n",
       "7           19  20140214           103156\n",
       "8           19  20140214           103124\n",
       "9           19  20130904           103133"
      ]
     },
     "execution_count": 81,
     "metadata": {},
     "output_type": "execute_result"
    }
   ],
   "source": [
    "# quick look to check whether we get what we wanted\n",
    "restaurant_scores[['business_id','date','ViolationTypeID']].head(10)"
   ]
  },
  {
   "cell_type": "code",
   "execution_count": 82,
   "metadata": {
    "collapsed": false
   },
   "outputs": [],
   "source": [
    "# 2 Which ten business have had the most inspections?b"
   ]
  },
  {
   "cell_type": "code",
   "execution_count": 83,
   "metadata": {
    "collapsed": true
   },
   "outputs": [
    {
     "data": {
      "text/plain": [
       "Peet's Coffee & Tea           87\n",
       "Starbucks Coffee              71\n",
       "Whole Foods Market            54\n",
       "STARBUCKS                     49\n",
       "Specialty's Cafe & Bakery     48\n",
       "STARBUCKS COFFEE              44\n",
       "San Francisco Soup Company    44\n",
       "KENTUCKY FRIED CHICKEN        32\n",
       "Lee's Deli                    31\n",
       "Subway Sandwiches             31\n",
       "Name: name, dtype: int64"
      ]
     },
     "execution_count": 83,
     "metadata": {},
     "output_type": "execute_result"
    }
   ],
   "source": [
    "# this one looks at the name. But note that several business_ids may share the same name\n",
    "business_inspections.name.value_counts().head(10)"
   ]
  },
  {
   "cell_type": "code",
   "execution_count": 84,
   "metadata": {
    "collapsed": true
   },
   "outputs": [
    {
     "name": "stdout",
     "output_type": "stream",
     "text": [
      "1775     21\n",
      "2505     20\n",
      "74374    20\n",
      "71804    19\n",
      "67154    19\n",
      "74131    19\n",
      "71618    19\n",
      "7747     18\n",
      "489      18\n",
      "80243    17\n",
      "Name: business_id, dtype: int64\n"
     ]
    }
   ],
   "source": [
    "# let's look at by business_id\n",
    "a = business_inspections.business_id.value_counts().head(10)\n",
    "print a"
   ]
  },
  {
   "cell_type": "code",
   "execution_count": 85,
   "metadata": {
    "collapsed": true
   },
   "outputs": [
    {
     "data": {
      "text/html": [
       "<div>\n",
       "<table border=\"1\" class=\"dataframe\">\n",
       "  <thead>\n",
       "    <tr style=\"text-align: right;\">\n",
       "      <th></th>\n",
       "      <th>business_id</th>\n",
       "      <th>name</th>\n",
       "      <th>address</th>\n",
       "      <th>city</th>\n",
       "      <th>postal_code</th>\n",
       "      <th>latitude</th>\n",
       "      <th>longitude</th>\n",
       "      <th>phone_number</th>\n",
       "      <th>TaxCode</th>\n",
       "      <th>business_certificate</th>\n",
       "      <th>application_date</th>\n",
       "      <th>owner_name</th>\n",
       "      <th>owner_address</th>\n",
       "      <th>owner_city</th>\n",
       "      <th>owner_state</th>\n",
       "      <th>owner_zip</th>\n",
       "    </tr>\n",
       "  </thead>\n",
       "  <tbody>\n",
       "    <tr>\n",
       "      <th>141</th>\n",
       "      <td>489</td>\n",
       "      <td>Dol-Ho Restaurant</td>\n",
       "      <td>808 Pacific Ave</td>\n",
       "      <td>San Francisco</td>\n",
       "      <td>94133</td>\n",
       "      <td>37.796718</td>\n",
       "      <td>-122.408714</td>\n",
       "      <td>NaN</td>\n",
       "      <td>H24</td>\n",
       "      <td>203720.0</td>\n",
       "      <td>NaN</td>\n",
       "      <td>Yiu Tim Chan</td>\n",
       "      <td>808 Pacific Ave</td>\n",
       "      <td>San Francisco</td>\n",
       "      <td>CA</td>\n",
       "      <td>94133</td>\n",
       "    </tr>\n",
       "    <tr>\n",
       "      <th>463</th>\n",
       "      <td>1775</td>\n",
       "      <td>Sapporo-Ya</td>\n",
       "      <td>1581 WEBSTER St</td>\n",
       "      <td>SF</td>\n",
       "      <td>94115</td>\n",
       "      <td>37.785227</td>\n",
       "      <td>-122.431472</td>\n",
       "      <td>+14155567400</td>\n",
       "      <td>H25</td>\n",
       "      <td>98407.0</td>\n",
       "      <td>NaN</td>\n",
       "      <td>TURNER SHIBATA INC.</td>\n",
       "      <td>1581 WEBSTER ST</td>\n",
       "      <td>SF</td>\n",
       "      <td>CA</td>\n",
       "      <td>94115</td>\n",
       "    </tr>\n",
       "    <tr>\n",
       "      <th>679</th>\n",
       "      <td>2505</td>\n",
       "      <td>AMERICANA GRILL &amp; FOUNTAIN</td>\n",
       "      <td>3532 BALBOA St</td>\n",
       "      <td>SF</td>\n",
       "      <td>94121</td>\n",
       "      <td>37.775806</td>\n",
       "      <td>-122.496608</td>\n",
       "      <td>NaN</td>\n",
       "      <td>H25</td>\n",
       "      <td>315912.0</td>\n",
       "      <td>05/01/1998</td>\n",
       "      <td>LAI, TONY</td>\n",
       "      <td>3532 BALBOA ST</td>\n",
       "      <td>SF</td>\n",
       "      <td>CA</td>\n",
       "      <td>94121</td>\n",
       "    </tr>\n",
       "    <tr>\n",
       "      <th>2345</th>\n",
       "      <td>7747</td>\n",
       "      <td>SAFEWAY STORE #964</td>\n",
       "      <td>4950 Mission St</td>\n",
       "      <td>SF</td>\n",
       "      <td>94112</td>\n",
       "      <td>37.719540</td>\n",
       "      <td>-122.438775</td>\n",
       "      <td>+14155587200</td>\n",
       "      <td>H10</td>\n",
       "      <td>24669.0</td>\n",
       "      <td>NaN</td>\n",
       "      <td>SAFEWAY STORES, INC.</td>\n",
       "      <td>4950 MISSION ST</td>\n",
       "      <td>SF</td>\n",
       "      <td>CA</td>\n",
       "      <td>94112</td>\n",
       "    </tr>\n",
       "    <tr>\n",
       "      <th>4349</th>\n",
       "      <td>67154</td>\n",
       "      <td>RIVERSIDE SEAFOOD RESTAURANT</td>\n",
       "      <td>1201 VICENTE St</td>\n",
       "      <td>SF</td>\n",
       "      <td>94116</td>\n",
       "      <td>37.739065</td>\n",
       "      <td>-122.479769</td>\n",
       "      <td>NaN</td>\n",
       "      <td>H26</td>\n",
       "      <td>462782.0</td>\n",
       "      <td>08/26/2011</td>\n",
       "      <td>E &amp; S SUNSET GROUP INC.</td>\n",
       "      <td>1201 VICENTE ST.</td>\n",
       "      <td>SAN FRANCISCO</td>\n",
       "      <td>CA</td>\n",
       "      <td>94116</td>\n",
       "    </tr>\n",
       "    <tr>\n",
       "      <th>5123</th>\n",
       "      <td>71618</td>\n",
       "      <td>Rustic</td>\n",
       "      <td>3331 24th St</td>\n",
       "      <td>SF</td>\n",
       "      <td>94110</td>\n",
       "      <td>37.752183</td>\n",
       "      <td>-122.419128</td>\n",
       "      <td>+14155551452</td>\n",
       "      <td>H24</td>\n",
       "      <td>478833.0</td>\n",
       "      <td>05/15/2013</td>\n",
       "      <td>Triumverant Pizza LLC</td>\n",
       "      <td>540 Pacific Ave.</td>\n",
       "      <td>San Francisco</td>\n",
       "      <td>CA</td>\n",
       "      <td>94109</td>\n",
       "    </tr>\n",
       "    <tr>\n",
       "      <th>5154</th>\n",
       "      <td>71804</td>\n",
       "      <td>La Urbana</td>\n",
       "      <td>661 Divisadero St</td>\n",
       "      <td>NaN</td>\n",
       "      <td>94117</td>\n",
       "      <td>NaN</td>\n",
       "      <td>NaN</td>\n",
       "      <td>NaN</td>\n",
       "      <td>H26</td>\n",
       "      <td>473460.0</td>\n",
       "      <td>02/27/2013</td>\n",
       "      <td>Latin Hospitality Group, LLC</td>\n",
       "      <td>1864 Fell St.</td>\n",
       "      <td>SF</td>\n",
       "      <td>CA</td>\n",
       "      <td>94117</td>\n",
       "    </tr>\n",
       "    <tr>\n",
       "      <th>5252</th>\n",
       "      <td>74131</td>\n",
       "      <td>Deena's Market and Smoke Shop</td>\n",
       "      <td>600 O'Farrell St</td>\n",
       "      <td>NaN</td>\n",
       "      <td>94109</td>\n",
       "      <td>NaN</td>\n",
       "      <td>NaN</td>\n",
       "      <td>NaN</td>\n",
       "      <td>H28</td>\n",
       "      <td>478185.0</td>\n",
       "      <td>04/11/2013</td>\n",
       "      <td>Mouhannad Dahbour and Ebrahim Alghazaly</td>\n",
       "      <td>600 O'Farrell St</td>\n",
       "      <td>SF</td>\n",
       "      <td>CA</td>\n",
       "      <td>94109</td>\n",
       "    </tr>\n",
       "    <tr>\n",
       "      <th>5289</th>\n",
       "      <td>74374</td>\n",
       "      <td>Gallardo's Mexican Restaurant</td>\n",
       "      <td>3248 18th St</td>\n",
       "      <td>NaN</td>\n",
       "      <td>94110</td>\n",
       "      <td>NaN</td>\n",
       "      <td>NaN</td>\n",
       "      <td>NaN</td>\n",
       "      <td>H25</td>\n",
       "      <td>430241.0</td>\n",
       "      <td>04/26/2013</td>\n",
       "      <td>Juan Manuel Gallardo</td>\n",
       "      <td>3248 18th Street</td>\n",
       "      <td>SF</td>\n",
       "      <td>CA</td>\n",
       "      <td>94110</td>\n",
       "    </tr>\n",
       "    <tr>\n",
       "      <th>6286</th>\n",
       "      <td>80243</td>\n",
       "      <td>New Wing Lee LLC</td>\n",
       "      <td>700 Clement St</td>\n",
       "      <td>NaN</td>\n",
       "      <td>94118</td>\n",
       "      <td>NaN</td>\n",
       "      <td>NaN</td>\n",
       "      <td>NaN</td>\n",
       "      <td>H25</td>\n",
       "      <td>1004730.0</td>\n",
       "      <td>09/03/2014</td>\n",
       "      <td>New Wing Lee LLC</td>\n",
       "      <td>700 Clement St.</td>\n",
       "      <td>Sf</td>\n",
       "      <td>CA</td>\n",
       "      <td>94118</td>\n",
       "    </tr>\n",
       "  </tbody>\n",
       "</table>\n",
       "</div>"
      ],
      "text/plain": [
       "      business_id                           name             address  \\\n",
       "141           489              Dol-Ho Restaurant    808 Pacific Ave    \n",
       "463          1775                     Sapporo-Ya    1581 WEBSTER St    \n",
       "679          2505     AMERICANA GRILL & FOUNTAIN     3532 BALBOA St    \n",
       "2345         7747             SAFEWAY STORE #964    4950 Mission St    \n",
       "4349        67154   RIVERSIDE SEAFOOD RESTAURANT    1201 VICENTE St    \n",
       "5123        71618                         Rustic       3331 24th St    \n",
       "5154        71804                      La Urbana  661 Divisadero St    \n",
       "5252        74131  Deena's Market and Smoke Shop   600 O'Farrell St    \n",
       "5289        74374  Gallardo's Mexican Restaurant       3248 18th St    \n",
       "6286        80243               New Wing Lee LLC     700 Clement St    \n",
       "\n",
       "               city postal_code   latitude   longitude  phone_number TaxCode  \\\n",
       "141   San Francisco       94133  37.796718 -122.408714           NaN     H24   \n",
       "463              SF       94115  37.785227 -122.431472  +14155567400     H25   \n",
       "679              SF       94121  37.775806 -122.496608           NaN     H25   \n",
       "2345             SF       94112  37.719540 -122.438775  +14155587200     H10   \n",
       "4349             SF       94116  37.739065 -122.479769           NaN     H26   \n",
       "5123             SF       94110  37.752183 -122.419128  +14155551452     H24   \n",
       "5154            NaN       94117        NaN         NaN           NaN     H26   \n",
       "5252            NaN       94109        NaN         NaN           NaN     H28   \n",
       "5289            NaN       94110        NaN         NaN           NaN     H25   \n",
       "6286            NaN       94118        NaN         NaN           NaN     H25   \n",
       "\n",
       "      business_certificate application_date  \\\n",
       "141               203720.0              NaN   \n",
       "463                98407.0              NaN   \n",
       "679               315912.0       05/01/1998   \n",
       "2345               24669.0              NaN   \n",
       "4349              462782.0       08/26/2011   \n",
       "5123              478833.0       05/15/2013   \n",
       "5154              473460.0       02/27/2013   \n",
       "5252              478185.0       04/11/2013   \n",
       "5289              430241.0       04/26/2013   \n",
       "6286             1004730.0       09/03/2014   \n",
       "\n",
       "                                   owner_name     owner_address  \\\n",
       "141                              Yiu Tim Chan   808 Pacific Ave   \n",
       "463                       TURNER SHIBATA INC.   1581 WEBSTER ST   \n",
       "679                                 LAI, TONY    3532 BALBOA ST   \n",
       "2345                     SAFEWAY STORES, INC.   4950 MISSION ST   \n",
       "4349                  E & S SUNSET GROUP INC.  1201 VICENTE ST.   \n",
       "5123                    Triumverant Pizza LLC  540 Pacific Ave.   \n",
       "5154             Latin Hospitality Group, LLC     1864 Fell St.   \n",
       "5252  Mouhannad Dahbour and Ebrahim Alghazaly  600 O'Farrell St   \n",
       "5289                     Juan Manuel Gallardo  3248 18th Street   \n",
       "6286                         New Wing Lee LLC   700 Clement St.   \n",
       "\n",
       "         owner_city owner_state owner_zip  \n",
       "141   San Francisco          CA     94133  \n",
       "463              SF          CA     94115  \n",
       "679              SF          CA     94121  \n",
       "2345             SF          CA     94112  \n",
       "4349  SAN FRANCISCO          CA     94116  \n",
       "5123  San Francisco          CA     94109  \n",
       "5154             SF          CA     94117  \n",
       "5252             SF          CA     94109  \n",
       "5289             SF          CA     94110  \n",
       "6286             Sf          CA     94118  "
      ]
     },
     "execution_count": 85,
     "metadata": {},
     "output_type": "execute_result"
    }
   ],
   "source": [
    "# let's also display these top ten businesses\n",
    "businesses[businesses.business_id.isin(a.index)]"
   ]
  },
  {
   "cell_type": "code",
   "execution_count": 86,
   "metadata": {
    "collapsed": true
   },
   "outputs": [],
   "source": [
    "# 3 Group and count the inspections by type"
   ]
  },
  {
   "cell_type": "code",
   "execution_count": 87,
   "metadata": {
    "collapsed": true
   },
   "outputs": [
    {
     "data": {
      "text/plain": [
       "Routine - Unscheduled                15481\n",
       "Reinspection/Followup                 5386\n",
       "New Ownership                         1877\n",
       "Complaint                             1634\n",
       "New Construction                      1613\n",
       "Non-inspection site visit              840\n",
       "Complaint Reinspection/Followup        163\n",
       "Structural Inspection                  120\n",
       "Foodborne Illness Investigation        100\n",
       "Routine - Scheduled                     63\n",
       "Administrative or Document Review        4\n",
       "Special Event                            2\n",
       "Multi-agency Investigation               2\n",
       "Name: type, dtype: int64"
      ]
     },
     "execution_count": 87,
     "metadata": {},
     "output_type": "execute_result"
    }
   ],
   "source": [
    "inspections['type'].value_counts()"
   ]
  },
  {
   "cell_type": "code",
   "execution_count": 88,
   "metadata": {
    "collapsed": false
   },
   "outputs": [],
   "source": [
    "# 4 Create a plot that shows number of inspections per month\n",
    "# Bonus for creating a heatmap\n",
    "# http://stanford.edu/~mwaskom/software/seaborn/generated/seaborn.heatmap.html?highlight=heatmap"
   ]
  },
  {
   "cell_type": "code",
   "execution_count": 89,
   "metadata": {
    "collapsed": true
   },
   "outputs": [],
   "source": [
    "# the data column contains numeric values such as 20140819\n",
    "# convert to string, slice to extract the month part, convert back to numeric\n",
    "# store the new value as a new column called month\n",
    "inspections['month'] = inspections.date.astype(str).apply(lambda x: x[4:6]).astype(int)\n",
    "\n",
    "# do the same for year\n",
    "inspections['year'] = inspections.date.astype(str).apply(lambda x: x[:4]).astype(int)\n"
   ]
  },
  {
   "cell_type": "code",
   "execution_count": 90,
   "metadata": {
    "collapsed": true
   },
   "outputs": [
    {
     "data": {
      "text/plain": [
       "1     1940\n",
       "2     2277\n",
       "3     2833\n",
       "4     2732\n",
       "5     2592\n",
       "6     2507\n",
       "7     1971\n",
       "8     2420\n",
       "9     2424\n",
       "10    2285\n",
       "11    1784\n",
       "12    1520\n",
       "Name: month, dtype: int64"
      ]
     },
     "execution_count": 90,
     "metadata": {},
     "output_type": "execute_result"
    }
   ],
   "source": [
    "# prepare a series for plotting\n",
    "s = inspections.month.value_counts().sort_index()\n",
    "s"
   ]
  },
  {
   "cell_type": "code",
   "execution_count": 91,
   "metadata": {
    "collapsed": true
   },
   "outputs": [
    {
     "data": {
      "text/plain": [
       "<matplotlib.axes._subplots.AxesSubplot at 0xc993358>"
      ]
     },
     "execution_count": 91,
     "metadata": {},
     "output_type": "execute_result"
    },
    {
     "data": {
      "image/png": "[encoded data removed]",
      "text/plain": [
       "<matplotlib.figure.Figure at 0xbb677f0>"
      ]
     },
     "metadata": {},
     "output_type": "display_data"
    }
   ],
   "source": [
    "# I'd like to use month names instead of numbers when plotting the bar graph\n",
    "new_index = ['January','February','March','April','May','June','July','August',\\\n",
    "               'September','October','November','December']\n",
    "\n",
    "s.index = new_index\n",
    "s.plot(kind = 'bar')"
   ]
  },
  {
   "cell_type": "code",
   "execution_count": 92,
   "metadata": {
    "collapsed": true
   },
   "outputs": [
    {
     "data": {
      "text/plain": [
       "<matplotlib.axes._subplots.AxesSubplot at 0xd2f9ef0>"
      ]
     },
     "execution_count": 92,
     "metadata": {},
     "output_type": "execute_result"
    },
    {
     "data": {
      "image/png": "[encoded data removed]",
      "text/plain": [
       "<matplotlib.figure.Figure at 0xcaeb8d0>"
      ]
     },
     "metadata": {},
     "output_type": "display_data"
    }
   ],
   "source": [
    "# next, I'll try to do the heat map\n",
    "# I assumed that we're asked to do a break-down by months for each year\n",
    "\n",
    "insp_year_month = inspections.groupby(['year','month']).business_id.count()\n",
    "\n",
    "# for heatmap, we'll turn this into a matrix\n",
    "matrix_for_heatmap = insp_year_month.unstack()\n",
    "\n",
    "# again, instead of numbers use month names. we had already created a list of month names and stored \n",
    "# in new_index in the above cell\n",
    "matrix_for_heatmap.columns = new_index\n",
    "\n",
    "# now we're ready for plotting heatmap\n",
    "sns.heatmap(matrix_for_heatmap)"
   ]
  },
  {
   "cell_type": "code",
   "execution_count": 93,
   "metadata": {
    "collapsed": true
   },
   "outputs": [],
   "source": [
    "# 5 Which zip code contains the most high risk violations?"
   ]
  },
  {
   "cell_type": "code",
   "execution_count": 94,
   "metadata": {
    "collapsed": true
   },
   "outputs": [
    {
     "data": {
      "text/plain": [
       "94133    443\n",
       "94110    383\n",
       "94109    365\n",
       "94122    352\n",
       "94102    268\n",
       "Name: owner_zip, dtype: int64"
      ]
     },
     "execution_count": 94,
     "metadata": {},
     "output_type": "execute_result"
    }
   ],
   "source": [
    "# for this one, I'll join businesses and violations. To make things simple, I'll only use the business_id and owner_zip columns\n",
    "# from businesses\n",
    "violations_zip = pd.merge(businesses[['business_id','owner_zip']], violations, on = 'business_id')\n",
    "\n",
    "violations_zip[violations_zip.risk_category == 'High Risk'].owner_zip.value_counts().head(5)"
   ]
  },
  {
   "cell_type": "code",
   "execution_count": 356,
   "metadata": {
    "collapsed": true
   },
   "outputs": [],
   "source": [
    "# 6 If inspection is prompted by a change in restaurant ownership, \n",
    "# is the inspection more likely to be categorized as higher or lower risk?"
   ]
  },
  {
   "cell_type": "code",
   "execution_count": 95,
   "metadata": {
    "collapsed": false
   },
   "outputs": [],
   "source": [
    "# I couldn't do this question. Since it's the violations, not inspections, that are categorized, how should we label an inspection? \n",
    "# The problem is each inspection may result in several violations.\n",
    "# Unfortunately I had to start working on the homework late, and I didn't have time to ask this. "
   ]
  },
  {
   "cell_type": "code",
   "execution_count": 96,
   "metadata": {
    "collapsed": true
   },
   "outputs": [],
   "source": [
    "# 7 Examining the descriptions, what is the most common violation?"
   ]
  },
  {
   "cell_type": "code",
   "execution_count": 97,
   "metadata": {
    "collapsed": true
   },
   "outputs": [
    {
     "data": {
      "text/plain": [
       "Unclean or degraded floors walls or ceilings    3395\n",
       "Name: description, dtype: int64"
      ]
     },
     "execution_count": 97,
     "metadata": {},
     "output_type": "execute_result"
    }
   ],
   "source": [
    "# for this question, we only need the violations dataframe\n",
    "violations.description.value_counts().head(1)"
   ]
  },
  {
   "cell_type": "code",
   "execution_count": 98,
   "metadata": {
    "collapsed": true
   },
   "outputs": [],
   "source": [
    "# 8 Create a hist of the scores with 10 bins"
   ]
  },
  {
   "cell_type": "code",
   "execution_count": 99,
   "metadata": {
    "collapsed": true
   },
   "outputs": [
    {
     "data": {
      "text/plain": [
       "<matplotlib.axes._subplots.AxesSubplot at 0xd892780>"
      ]
     },
     "execution_count": 99,
     "metadata": {},
     "output_type": "execute_result"
    },
    {
     "data": {
      "image/png": "[encoded data removed]",
      "text/plain": [
       "<matplotlib.figure.Figure at 0xd8b0da0>"
      ]
     },
     "metadata": {},
     "output_type": "display_data"
    }
   ],
   "source": [
    "inspections.Score.hist(bins=10)"
   ]
  },
  {
   "cell_type": "code",
   "execution_count": 362,
   "metadata": {
    "collapsed": true
   },
   "outputs": [],
   "source": [
    "# 9 Can you predict risk category based on the other features in this dataset?"
   ]
  },
  {
   "cell_type": "code",
   "execution_count": 100,
   "metadata": {
    "collapsed": false
   },
   "outputs": [],
   "source": [
    "# Unfortunately, I didn't have time to work on this question."
   ]
  },
  {
   "cell_type": "code",
   "execution_count": 101,
   "metadata": {
    "collapsed": true
   },
   "outputs": [],
   "source": [
    "# 10 Extra Credit:\n",
    "# Use Instagram location API to find pictures taken at the lat, long of the most High Risk restaurant\n",
    "# https://www.instagram.com/developer/endpoints/locations/"
   ]
  },
  {
   "cell_type": "code",
   "execution_count": 102,
   "metadata": {
    "collapsed": false
   },
   "outputs": [],
   "source": [
    "# Unfortunately, I didn't have time to work on this question."
   ]
  },
  {
   "cell_type": "code",
   "execution_count": 103,
   "metadata": {
    "collapsed": true
   },
   "outputs": [],
   "source": [
    "############################\n",
    "### A Little More Morbid ###\n",
    "############################"
   ]
  },
  {
   "cell_type": "code",
   "execution_count": 104,
   "metadata": {
    "collapsed": true
   },
   "outputs": [
    {
     "data": {
      "text/html": [
       "<div>\n",
       "<table border=\"1\" class=\"dataframe\">\n",
       "  <thead>\n",
       "    <tr style=\"text-align: right;\">\n",
       "      <th></th>\n",
       "      <th>Unnamed: 0</th>\n",
       "      <th>name</th>\n",
       "      <th>age</th>\n",
       "      <th>gender</th>\n",
       "      <th>raceethnicity</th>\n",
       "      <th>month</th>\n",
       "      <th>day</th>\n",
       "      <th>year</th>\n",
       "      <th>streetaddress</th>\n",
       "      <th>city</th>\n",
       "      <th>state</th>\n",
       "      <th>lawenforcementagency</th>\n",
       "      <th>cause</th>\n",
       "      <th>armed</th>\n",
       "      <th>county_income</th>\n",
       "    </tr>\n",
       "  </thead>\n",
       "  <tbody>\n",
       "    <tr>\n",
       "      <th>0</th>\n",
       "      <td>0</td>\n",
       "      <td>A'donte Washington</td>\n",
       "      <td>16</td>\n",
       "      <td>Male</td>\n",
       "      <td>Black</td>\n",
       "      <td>February</td>\n",
       "      <td>23</td>\n",
       "      <td>2015</td>\n",
       "      <td>Clearview Ln</td>\n",
       "      <td>Millbrook</td>\n",
       "      <td>AL</td>\n",
       "      <td>Millbrook Police Department</td>\n",
       "      <td>Gunshot</td>\n",
       "      <td>No</td>\n",
       "      <td>54766</td>\n",
       "    </tr>\n",
       "    <tr>\n",
       "      <th>1</th>\n",
       "      <td>1</td>\n",
       "      <td>Aaron Rutledge</td>\n",
       "      <td>27</td>\n",
       "      <td>Male</td>\n",
       "      <td>White</td>\n",
       "      <td>April</td>\n",
       "      <td>2</td>\n",
       "      <td>2015</td>\n",
       "      <td>300 block Iris Park Dr</td>\n",
       "      <td>Pineville</td>\n",
       "      <td>LA</td>\n",
       "      <td>Rapides Parish Sheriff's Office</td>\n",
       "      <td>Gunshot</td>\n",
       "      <td>No</td>\n",
       "      <td>40930</td>\n",
       "    </tr>\n",
       "    <tr>\n",
       "      <th>2</th>\n",
       "      <td>2</td>\n",
       "      <td>Aaron Siler</td>\n",
       "      <td>26</td>\n",
       "      <td>Male</td>\n",
       "      <td>White</td>\n",
       "      <td>March</td>\n",
       "      <td>14</td>\n",
       "      <td>2015</td>\n",
       "      <td>22nd Ave and 56th St</td>\n",
       "      <td>Kenosha</td>\n",
       "      <td>WI</td>\n",
       "      <td>Kenosha Police Department</td>\n",
       "      <td>Gunshot</td>\n",
       "      <td>No</td>\n",
       "      <td>54930</td>\n",
       "    </tr>\n",
       "    <tr>\n",
       "      <th>3</th>\n",
       "      <td>3</td>\n",
       "      <td>Aaron Valdez</td>\n",
       "      <td>25</td>\n",
       "      <td>Male</td>\n",
       "      <td>Hispanic/Latino</td>\n",
       "      <td>March</td>\n",
       "      <td>11</td>\n",
       "      <td>2015</td>\n",
       "      <td>3000 Seminole Ave</td>\n",
       "      <td>South Gate</td>\n",
       "      <td>CA</td>\n",
       "      <td>South Gate Police Department</td>\n",
       "      <td>Gunshot</td>\n",
       "      <td>Firearm</td>\n",
       "      <td>55909</td>\n",
       "    </tr>\n",
       "    <tr>\n",
       "      <th>4</th>\n",
       "      <td>4</td>\n",
       "      <td>Adam Jovicic</td>\n",
       "      <td>29</td>\n",
       "      <td>Male</td>\n",
       "      <td>White</td>\n",
       "      <td>March</td>\n",
       "      <td>19</td>\n",
       "      <td>2015</td>\n",
       "      <td>364 Hiwood Ave</td>\n",
       "      <td>Munroe Falls</td>\n",
       "      <td>OH</td>\n",
       "      <td>Kent Police Department</td>\n",
       "      <td>Gunshot</td>\n",
       "      <td>No</td>\n",
       "      <td>49669</td>\n",
       "    </tr>\n",
       "  </tbody>\n",
       "</table>\n",
       "</div>"
      ],
      "text/plain": [
       "   Unnamed: 0                name  age gender    raceethnicity     month  day  \\\n",
       "0           0  A'donte Washington   16   Male            Black  February   23   \n",
       "1           1      Aaron Rutledge   27   Male            White     April    2   \n",
       "2           2         Aaron Siler   26   Male            White     March   14   \n",
       "3           3        Aaron Valdez   25   Male  Hispanic/Latino     March   11   \n",
       "4           4        Adam Jovicic   29   Male            White     March   19   \n",
       "\n",
       "   year           streetaddress          city state  \\\n",
       "0  2015            Clearview Ln     Millbrook    AL   \n",
       "1  2015  300 block Iris Park Dr     Pineville    LA   \n",
       "2  2015    22nd Ave and 56th St       Kenosha    WI   \n",
       "3  2015       3000 Seminole Ave    South Gate    CA   \n",
       "4  2015          364 Hiwood Ave  Munroe Falls    OH   \n",
       "\n",
       "              lawenforcementagency    cause    armed  county_income  \n",
       "0      Millbrook Police Department  Gunshot       No          54766  \n",
       "1  Rapides Parish Sheriff's Office  Gunshot       No          40930  \n",
       "2        Kenosha Police Department  Gunshot       No          54930  \n",
       "3     South Gate Police Department  Gunshot  Firearm          55909  \n",
       "4           Kent Police Department  Gunshot       No          49669  "
      ]
     },
     "execution_count": 104,
     "metadata": {},
     "output_type": "execute_result"
    }
   ],
   "source": [
    "killings = pd.read_csv('./data/police-killings.csv')\n",
    "killings.head()"
   ]
  },
  {
   "cell_type": "code",
   "execution_count": 105,
   "metadata": {
    "collapsed": true
   },
   "outputs": [
    {
     "name": "stdout",
     "output_type": "stream",
     "text": [
      "(467, 15)\n",
      "Index([u'Unnamed: 0', u'name', u'age', u'gender', u'raceethnicity', u'month',\n",
      "       u'day', u'year', u'streetaddress', u'city', u'state',\n",
      "       u'lawenforcementagency', u'cause', u'armed', u'county_income'],\n",
      "      dtype='object')\n"
     ]
    },
    {
     "data": {
      "text/plain": [
       "Unnamed: 0              0\n",
       "name                    0\n",
       "age                     0\n",
       "gender                  0\n",
       "raceethnicity           0\n",
       "month                   0\n",
       "day                     0\n",
       "year                    0\n",
       "streetaddress           4\n",
       "city                    0\n",
       "state                   0\n",
       "lawenforcementagency    0\n",
       "cause                   0\n",
       "armed                   0\n",
       "county_income           0\n",
       "dtype: int64"
      ]
     },
     "execution_count": 105,
     "metadata": {},
     "output_type": "execute_result"
    }
   ],
   "source": [
    "# some quick checks \n",
    "print killings.shape\n",
    "print killings.columns\n",
    "killings.isnull().sum()"
   ]
  },
  {
   "cell_type": "code",
   "execution_count": 106,
   "metadata": {
    "collapsed": true
   },
   "outputs": [],
   "source": [
    "# 1. Make the following changed to column names:\n",
    "# lawenforcementagency -> agency\n",
    "# raceethnicity        -> race"
   ]
  },
  {
   "cell_type": "code",
   "execution_count": 107,
   "metadata": {
    "collapsed": false
   },
   "outputs": [],
   "source": [
    "killings.rename(columns = {'lawenforcementagency':'agency', 'raceethnicity':'race'}, inplace=True)"
   ]
  },
  {
   "cell_type": "code",
   "execution_count": 108,
   "metadata": {
    "collapsed": true
   },
   "outputs": [
    {
     "name": "stdout",
     "output_type": "stream",
     "text": [
      "Index([u'Unnamed: 0', u'name', u'age', u'gender', u'race', u'month', u'day',\n",
      "       u'year', u'streetaddress', u'city', u'state', u'agency', u'cause',\n",
      "       u'armed', u'county_income'],\n",
      "      dtype='object')\n"
     ]
    }
   ],
   "source": [
    "# let's check if it worked\n",
    "print killings.columns"
   ]
  },
  {
   "cell_type": "code",
   "execution_count": 109,
   "metadata": {
    "collapsed": true
   },
   "outputs": [],
   "source": [
    "# 2. Show the count of missing values in each column"
   ]
  },
  {
   "cell_type": "code",
   "execution_count": 110,
   "metadata": {
    "collapsed": true
   },
   "outputs": [
    {
     "data": {
      "text/plain": [
       "Unnamed: 0       0\n",
       "name             0\n",
       "age              0\n",
       "gender           0\n",
       "race             0\n",
       "month            0\n",
       "day              0\n",
       "year             0\n",
       "streetaddress    4\n",
       "city             0\n",
       "state            0\n",
       "agency           0\n",
       "cause            0\n",
       "armed            0\n",
       "county_income    0\n",
       "dtype: int64"
      ]
     },
     "execution_count": 110,
     "metadata": {},
     "output_type": "execute_result"
    }
   ],
   "source": [
    "killings.isnull().sum()"
   ]
  },
  {
   "cell_type": "code",
   "execution_count": 111,
   "metadata": {
    "collapsed": true
   },
   "outputs": [],
   "source": [
    "# 3. replace each null value in the dataframe with the string \"Unknown\""
   ]
  },
  {
   "cell_type": "code",
   "execution_count": 112,
   "metadata": {
    "collapsed": true
   },
   "outputs": [],
   "source": [
    "killings.fillna('Unknown', inplace=True)"
   ]
  },
  {
   "cell_type": "code",
   "execution_count": 113,
   "metadata": {
    "collapsed": true
   },
   "outputs": [
    {
     "data": {
      "text/plain": [
       "Unnamed: 0       0\n",
       "name             0\n",
       "age              0\n",
       "gender           0\n",
       "race             0\n",
       "month            0\n",
       "day              0\n",
       "year             0\n",
       "streetaddress    0\n",
       "city             0\n",
       "state            0\n",
       "agency           0\n",
       "cause            0\n",
       "armed            0\n",
       "county_income    0\n",
       "dtype: int64"
      ]
     },
     "execution_count": 113,
     "metadata": {},
     "output_type": "execute_result"
    }
   ],
   "source": [
    "# let's see if it worked\n",
    "killings.isnull().sum()"
   ]
  },
  {
   "cell_type": "code",
   "execution_count": 114,
   "metadata": {
    "collapsed": true
   },
   "outputs": [],
   "source": [
    "# 4. How many killings were there so far in 2015?"
   ]
  },
  {
   "cell_type": "code",
   "execution_count": 115,
   "metadata": {
    "collapsed": true
   },
   "outputs": [
    {
     "data": {
      "text/plain": [
       "467"
      ]
     },
     "execution_count": 115,
     "metadata": {},
     "output_type": "execute_result"
    }
   ],
   "source": [
    "killings[killings.year == 2015].name.count()\n",
    "# Answer: 467 killings"
   ]
  },
  {
   "cell_type": "code",
   "execution_count": 116,
   "metadata": {
    "collapsed": true
   },
   "outputs": [],
   "source": [
    "# 5. Of all killings, how many were male and how many female?"
   ]
  },
  {
   "cell_type": "code",
   "execution_count": 117,
   "metadata": {
    "collapsed": true
   },
   "outputs": [
    {
     "data": {
      "text/plain": [
       "Male      445\n",
       "Female     22\n",
       "Name: gender, dtype: int64"
      ]
     },
     "execution_count": 117,
     "metadata": {},
     "output_type": "execute_result"
    }
   ],
   "source": [
    "killings.gender.value_counts()\n",
    "\n",
    "# Answer: 445 were male, 22 were female"
   ]
  },
  {
   "cell_type": "code",
   "execution_count": 118,
   "metadata": {
    "collapsed": true
   },
   "outputs": [],
   "source": [
    "# 6. How many killings were of unarmed people?"
   ]
  },
  {
   "cell_type": "code",
   "execution_count": 119,
   "metadata": {
    "collapsed": true
   },
   "outputs": [
    {
     "data": {
      "text/plain": [
       "Firearm               230\n",
       "No                    102\n",
       "Knife                  68\n",
       "Other                  26\n",
       "Vehicle                18\n",
       "Non-lethal firearm     14\n",
       "Unknown                 7\n",
       "Disputed                2\n",
       "Name: armed, dtype: int64"
      ]
     },
     "execution_count": 119,
     "metadata": {},
     "output_type": "execute_result"
    }
   ],
   "source": [
    "killings.armed.value_counts()\n",
    "\n",
    "# Answer: 102 were unarmed. (Note: there are 7 Unknown, and 2 Disputed)"
   ]
  },
  {
   "cell_type": "code",
   "execution_count": 120,
   "metadata": {
    "collapsed": true
   },
   "outputs": [],
   "source": [
    "# 7. What percentage of all killings were unarmed?"
   ]
  },
  {
   "cell_type": "code",
   "execution_count": 122,
   "metadata": {
    "collapsed": true
   },
   "outputs": [
    {
     "name": "stdout",
     "output_type": "stream",
     "text": [
      "21.84 percent were unarmed\n"
     ]
    }
   ],
   "source": [
    "a = sum(killings.armed == 'No')\n",
    "\n",
    "b = killings.armed.count()\n",
    "\n",
    "c = 100 * float(a)/b\n",
    "\n",
    "print '%.2f percent were unarmed' % c\n",
    "\n",
    "# Answer: ~21.84% were unarmed"
   ]
  },
  {
   "cell_type": "code",
   "execution_count": 123,
   "metadata": {
    "collapsed": true
   },
   "outputs": [],
   "source": [
    "# 8. What are the 5 states with the most killings?"
   ]
  },
  {
   "cell_type": "code",
   "execution_count": 124,
   "metadata": {
    "collapsed": true
   },
   "outputs": [
    {
     "data": {
      "text/plain": [
       "CA    74\n",
       "TX    46\n",
       "FL    29\n",
       "AZ    25\n",
       "OK    22\n",
       "Name: state, dtype: int64"
      ]
     },
     "execution_count": 124,
     "metadata": {},
     "output_type": "execute_result"
    }
   ],
   "source": [
    "killings.state.value_counts().head(5)\n",
    "\n",
    "# Answer: CA, TX, FL, AZ, OK"
   ]
  },
  {
   "cell_type": "code",
   "execution_count": 125,
   "metadata": {
    "collapsed": true
   },
   "outputs": [],
   "source": [
    "# 9. Show a value counts of deaths for each race"
   ]
  },
  {
   "cell_type": "code",
   "execution_count": 126,
   "metadata": {
    "collapsed": true
   },
   "outputs": [
    {
     "data": {
      "text/plain": [
       "White                     236\n",
       "Black                     135\n",
       "Hispanic/Latino            67\n",
       "Unknown                    15\n",
       "Asian/Pacific Islander     10\n",
       "Native American             4\n",
       "Name: race, dtype: int64"
      ]
     },
     "execution_count": 126,
     "metadata": {},
     "output_type": "execute_result"
    }
   ],
   "source": [
    "killings.race.value_counts()"
   ]
  },
  {
   "cell_type": "code",
   "execution_count": 127,
   "metadata": {
    "collapsed": true
   },
   "outputs": [],
   "source": [
    "# 10. Display a histogram of ages of all killings"
   ]
  },
  {
   "cell_type": "code",
   "execution_count": 128,
   "metadata": {
    "collapsed": true
   },
   "outputs": [
    {
     "data": {
      "text/plain": [
       "<matplotlib.axes._subplots.AxesSubplot at 0xe7c44a8>"
      ]
     },
     "execution_count": 128,
     "metadata": {},
     "output_type": "execute_result"
    },
    {
     "data": {
      "image/png": "[encoded data removed]",
      "text/plain": [
       "<matplotlib.figure.Figure at 0xe7bf518>"
      ]
     },
     "metadata": {},
     "output_type": "display_data"
    }
   ],
   "source": [
    "killings.age.hist()"
   ]
  },
  {
   "cell_type": "code",
   "execution_count": 129,
   "metadata": {
    "collapsed": true
   },
   "outputs": [],
   "source": [
    "# 11. Show 6 histograms of ages by race"
   ]
  },
  {
   "cell_type": "code",
   "execution_count": 130,
   "metadata": {
    "collapsed": true
   },
   "outputs": [
    {
     "data": {
      "text/plain": [
       "array([[<matplotlib.axes._subplots.AxesSubplot object at 0x000000000E9EB780>,\n",
       "        <matplotlib.axes._subplots.AxesSubplot object at 0x000000000ED569B0>],\n",
       "       [<matplotlib.axes._subplots.AxesSubplot object at 0x000000000EE630B8>,\n",
       "        <matplotlib.axes._subplots.AxesSubplot object at 0x000000000EEC55C0>],\n",
       "       [<matplotlib.axes._subplots.AxesSubplot object at 0x000000000EFC0D68>,\n",
       "        <matplotlib.axes._subplots.AxesSubplot object at 0x000000000EF64C88>]], dtype=object)"
      ]
     },
     "execution_count": 130,
     "metadata": {},
     "output_type": "execute_result"
    },
    {
     "data": {
      "image/png": "[encoded data removed]",
      "text/plain": [
       "<matplotlib.figure.Figure at 0xc7f88d0>"
      ]
     },
     "metadata": {},
     "output_type": "display_data"
    }
   ],
   "source": [
    "killings.age.hist(by=killings.race, sharex=True, sharey=True)"
   ]
  },
  {
   "cell_type": "code",
   "execution_count": 131,
   "metadata": {
    "collapsed": true
   },
   "outputs": [],
   "source": [
    "# 12. What is the average age of death by race?"
   ]
  },
  {
   "cell_type": "code",
   "execution_count": 132,
   "metadata": {
    "collapsed": true
   },
   "outputs": [
    {
     "data": {
      "text/plain": [
       "race\n",
       "Asian/Pacific Islander    40.800000\n",
       "Black                     34.044444\n",
       "Hispanic/Latino           31.716418\n",
       "Native American           27.750000\n",
       "Unknown                   43.533333\n",
       "White                     40.466102\n",
       "Name: age, dtype: float64"
      ]
     },
     "execution_count": 132,
     "metadata": {},
     "output_type": "execute_result"
    }
   ],
   "source": [
    "killings.groupby('race').age.mean()"
   ]
  },
  {
   "cell_type": "code",
   "execution_count": 133,
   "metadata": {
    "collapsed": true
   },
   "outputs": [],
   "source": [
    "# 13. Show a bar chart with counts of deaths every month"
   ]
  },
  {
   "cell_type": "code",
   "execution_count": 134,
   "metadata": {
    "collapsed": true
   },
   "outputs": [
    {
     "data": {
      "text/plain": [
       "<matplotlib.axes._subplots.AxesSubplot at 0x104ef550>"
      ]
     },
     "execution_count": 134,
     "metadata": {},
     "output_type": "execute_result"
    },
    {
     "data": {
      "image/png": "[encoded data removed]",
      "text/plain": [
       "<matplotlib.figure.Figure at 0xa1c3fd0>"
      ]
     },
     "metadata": {},
     "output_type": "display_data"
    }
   ],
   "source": [
    "killings.month.value_counts().plot(kind = 'bar')"
   ]
  },
  {
   "cell_type": "code",
   "execution_count": 135,
   "metadata": {
    "collapsed": true
   },
   "outputs": [],
   "source": [
    "###################\n",
    "### Less Morbid ###\n",
    "###################"
   ]
  },
  {
   "cell_type": "code",
   "execution_count": 136,
   "metadata": {
    "collapsed": true
   },
   "outputs": [
    {
     "data": {
      "text/html": [
       "<div>\n",
       "<table border=\"1\" class=\"dataframe\">\n",
       "  <thead>\n",
       "    <tr style=\"text-align: right;\">\n",
       "      <th></th>\n",
       "      <th>Unnamed: 0</th>\n",
       "      <th>Major_code</th>\n",
       "      <th>Major</th>\n",
       "      <th>Major_category</th>\n",
       "      <th>Total</th>\n",
       "      <th>Employed</th>\n",
       "      <th>Employed_full_time_year_round</th>\n",
       "      <th>Unemployed</th>\n",
       "      <th>Unemployment_rate</th>\n",
       "      <th>Median</th>\n",
       "      <th>P25th</th>\n",
       "      <th>P75th</th>\n",
       "    </tr>\n",
       "  </thead>\n",
       "  <tbody>\n",
       "    <tr>\n",
       "      <th>0</th>\n",
       "      <td>0</td>\n",
       "      <td>1100</td>\n",
       "      <td>GENERAL AGRICULTURE</td>\n",
       "      <td>Agriculture &amp; Natural Resources</td>\n",
       "      <td>128148</td>\n",
       "      <td>90245</td>\n",
       "      <td>74078</td>\n",
       "      <td>2423</td>\n",
       "      <td>0.026147</td>\n",
       "      <td>50000</td>\n",
       "      <td>34000</td>\n",
       "      <td>80000.0</td>\n",
       "    </tr>\n",
       "    <tr>\n",
       "      <th>1</th>\n",
       "      <td>1</td>\n",
       "      <td>1101</td>\n",
       "      <td>AGRICULTURE PRODUCTION AND MANAGEMENT</td>\n",
       "      <td>Agriculture &amp; Natural Resources</td>\n",
       "      <td>95326</td>\n",
       "      <td>76865</td>\n",
       "      <td>64240</td>\n",
       "      <td>2266</td>\n",
       "      <td>0.028636</td>\n",
       "      <td>54000</td>\n",
       "      <td>36000</td>\n",
       "      <td>80000.0</td>\n",
       "    </tr>\n",
       "    <tr>\n",
       "      <th>2</th>\n",
       "      <td>2</td>\n",
       "      <td>1102</td>\n",
       "      <td>AGRICULTURAL ECONOMICS</td>\n",
       "      <td>Agriculture &amp; Natural Resources</td>\n",
       "      <td>33955</td>\n",
       "      <td>26321</td>\n",
       "      <td>22810</td>\n",
       "      <td>821</td>\n",
       "      <td>0.030248</td>\n",
       "      <td>63000</td>\n",
       "      <td>40000</td>\n",
       "      <td>98000.0</td>\n",
       "    </tr>\n",
       "    <tr>\n",
       "      <th>3</th>\n",
       "      <td>3</td>\n",
       "      <td>1103</td>\n",
       "      <td>ANIMAL SCIENCES</td>\n",
       "      <td>Agriculture &amp; Natural Resources</td>\n",
       "      <td>103549</td>\n",
       "      <td>81177</td>\n",
       "      <td>64937</td>\n",
       "      <td>3619</td>\n",
       "      <td>0.042679</td>\n",
       "      <td>46000</td>\n",
       "      <td>30000</td>\n",
       "      <td>72000.0</td>\n",
       "    </tr>\n",
       "    <tr>\n",
       "      <th>4</th>\n",
       "      <td>4</td>\n",
       "      <td>1104</td>\n",
       "      <td>FOOD SCIENCE</td>\n",
       "      <td>Agriculture &amp; Natural Resources</td>\n",
       "      <td>24280</td>\n",
       "      <td>17281</td>\n",
       "      <td>12722</td>\n",
       "      <td>894</td>\n",
       "      <td>0.049188</td>\n",
       "      <td>62000</td>\n",
       "      <td>38500</td>\n",
       "      <td>90000.0</td>\n",
       "    </tr>\n",
       "  </tbody>\n",
       "</table>\n",
       "</div>"
      ],
      "text/plain": [
       "   Unnamed: 0  Major_code                                  Major  \\\n",
       "0           0        1100                    GENERAL AGRICULTURE   \n",
       "1           1        1101  AGRICULTURE PRODUCTION AND MANAGEMENT   \n",
       "2           2        1102                 AGRICULTURAL ECONOMICS   \n",
       "3           3        1103                        ANIMAL SCIENCES   \n",
       "4           4        1104                           FOOD SCIENCE   \n",
       "\n",
       "                    Major_category   Total  Employed  \\\n",
       "0  Agriculture & Natural Resources  128148     90245   \n",
       "1  Agriculture & Natural Resources   95326     76865   \n",
       "2  Agriculture & Natural Resources   33955     26321   \n",
       "3  Agriculture & Natural Resources  103549     81177   \n",
       "4  Agriculture & Natural Resources   24280     17281   \n",
       "\n",
       "   Employed_full_time_year_round  Unemployed  Unemployment_rate  Median  \\\n",
       "0                          74078        2423           0.026147   50000   \n",
       "1                          64240        2266           0.028636   54000   \n",
       "2                          22810         821           0.030248   63000   \n",
       "3                          64937        3619           0.042679   46000   \n",
       "4                          12722         894           0.049188   62000   \n",
       "\n",
       "   P25th    P75th  \n",
       "0  34000  80000.0  \n",
       "1  36000  80000.0  \n",
       "2  40000  98000.0  \n",
       "3  30000  72000.0  \n",
       "4  38500  90000.0  "
      ]
     },
     "execution_count": 136,
     "metadata": {},
     "output_type": "execute_result"
    }
   ],
   "source": [
    "majors = pd.read_csv('./data/college-majors.csv')\n",
    "majors.head()"
   ]
  },
  {
   "cell_type": "code",
   "execution_count": 137,
   "metadata": {
    "collapsed": true
   },
   "outputs": [],
   "source": [
    "# 1. Delete the columns (employed_full_time_year_round, major_code)"
   ]
  },
  {
   "cell_type": "code",
   "execution_count": 138,
   "metadata": {
    "collapsed": false
   },
   "outputs": [],
   "source": [
    "del majors['Employed_full_time_year_round']\n",
    "del majors['Major_code']"
   ]
  },
  {
   "cell_type": "code",
   "execution_count": 139,
   "metadata": {
    "collapsed": true
   },
   "outputs": [],
   "source": [
    "# 2. Show the cout of missing values in each column"
   ]
  },
  {
   "cell_type": "code",
   "execution_count": 140,
   "metadata": {
    "collapsed": true
   },
   "outputs": [
    {
     "data": {
      "text/plain": [
       "Unnamed: 0           0\n",
       "Major                0\n",
       "Major_category       0\n",
       "Total                0\n",
       "Employed             0\n",
       "Unemployed           0\n",
       "Unemployment_rate    0\n",
       "Median               0\n",
       "P25th                0\n",
       "P75th                0\n",
       "dtype: int64"
      ]
     },
     "execution_count": 140,
     "metadata": {},
     "output_type": "execute_result"
    }
   ],
   "source": [
    "majors.isnull().sum()"
   ]
  },
  {
   "cell_type": "code",
   "execution_count": 141,
   "metadata": {
    "collapsed": true
   },
   "outputs": [],
   "source": [
    "# 3. What are the top 10 highest paying majors?"
   ]
  },
  {
   "cell_type": "code",
   "execution_count": 144,
   "metadata": {
    "collapsed": false
   },
   "outputs": [],
   "source": [
    "df = majors[['Major','Median']].sort_values(by='Median').tail(10)"
   ]
  },
  {
   "cell_type": "code",
   "execution_count": 145,
   "metadata": {
    "collapsed": true
   },
   "outputs": [
    {
     "data": {
      "text/html": [
       "<div>\n",
       "<table border=\"1\" class=\"dataframe\">\n",
       "  <thead>\n",
       "    <tr style=\"text-align: right;\">\n",
       "      <th></th>\n",
       "      <th>Major</th>\n",
       "      <th>Median</th>\n",
       "    </tr>\n",
       "  </thead>\n",
       "  <tbody>\n",
       "    <tr>\n",
       "      <th>51</th>\n",
       "      <td>GEOLOGICAL AND GEOPHYSICAL ENGINEERING</td>\n",
       "      <td>85000</td>\n",
       "    </tr>\n",
       "    <tr>\n",
       "      <th>45</th>\n",
       "      <td>CHEMICAL ENGINEERING</td>\n",
       "      <td>86000</td>\n",
       "    </tr>\n",
       "    <tr>\n",
       "      <th>48</th>\n",
       "      <td>ELECTRICAL ENGINEERING</td>\n",
       "      <td>88000</td>\n",
       "    </tr>\n",
       "    <tr>\n",
       "      <th>97</th>\n",
       "      <td>MATHEMATICS AND COMPUTER SCIENCE</td>\n",
       "      <td>92000</td>\n",
       "    </tr>\n",
       "    <tr>\n",
       "      <th>56</th>\n",
       "      <td>MINING AND MINERAL ENGINEERING</td>\n",
       "      <td>92000</td>\n",
       "    </tr>\n",
       "    <tr>\n",
       "      <th>58</th>\n",
       "      <td>NUCLEAR ENGINEERING</td>\n",
       "      <td>95000</td>\n",
       "    </tr>\n",
       "    <tr>\n",
       "      <th>55</th>\n",
       "      <td>METALLURGICAL ENGINEERING</td>\n",
       "      <td>96000</td>\n",
       "    </tr>\n",
       "    <tr>\n",
       "      <th>57</th>\n",
       "      <td>NAVAL ARCHITECTURE AND MARINE ENGINEERING</td>\n",
       "      <td>97000</td>\n",
       "    </tr>\n",
       "    <tr>\n",
       "      <th>154</th>\n",
       "      <td>PHARMACY PHARMACEUTICAL SCIENCES AND ADMINISTR...</td>\n",
       "      <td>106000</td>\n",
       "    </tr>\n",
       "    <tr>\n",
       "      <th>59</th>\n",
       "      <td>PETROLEUM ENGINEERING</td>\n",
       "      <td>125000</td>\n",
       "    </tr>\n",
       "  </tbody>\n",
       "</table>\n",
       "</div>"
      ],
      "text/plain": [
       "                                                 Major  Median\n",
       "51              GEOLOGICAL AND GEOPHYSICAL ENGINEERING   85000\n",
       "45                                CHEMICAL ENGINEERING   86000\n",
       "48                              ELECTRICAL ENGINEERING   88000\n",
       "97                    MATHEMATICS AND COMPUTER SCIENCE   92000\n",
       "56                      MINING AND MINERAL ENGINEERING   92000\n",
       "58                                 NUCLEAR ENGINEERING   95000\n",
       "55                           METALLURGICAL ENGINEERING   96000\n",
       "57           NAVAL ARCHITECTURE AND MARINE ENGINEERING   97000\n",
       "154  PHARMACY PHARMACEUTICAL SCIENCES AND ADMINISTR...  106000\n",
       "59                               PETROLEUM ENGINEERING  125000"
      ]
     },
     "execution_count": 145,
     "metadata": {},
     "output_type": "execute_result"
    }
   ],
   "source": [
    "df"
   ]
  },
  {
   "cell_type": "code",
   "execution_count": 146,
   "metadata": {
    "collapsed": true
   },
   "outputs": [],
   "source": [
    "# 4. Plot the data from the last question in a bar chart, include proper title, and labels!"
   ]
  },
  {
   "cell_type": "code",
   "execution_count": 152,
   "metadata": {
    "collapsed": true
   },
   "outputs": [
    {
     "data": {
      "text/plain": [
       "<matplotlib.text.Text at 0x11af6fd0>"
      ]
     },
     "execution_count": 152,
     "metadata": {},
     "output_type": "execute_result"
    },
    {
     "data": {
      "image/png": "[encoded data removed]",
      "text/plain": [
       "<matplotlib.figure.Figure at 0x114902b0>"
      ]
     },
     "metadata": {},
     "output_type": "display_data"
    }
   ],
   "source": [
    "df.plot(x = 'Major', y='Median', kind = 'bar',\\\n",
    "        title='Median pay for the ten highest paying majors',legend = None)\n",
    "plt.xlabel('Major')\n",
    "plt.ylabel('Median income (USD)')\n"
   ]
  },
  {
   "cell_type": "code",
   "execution_count": null,
   "metadata": {
    "collapsed": true
   },
   "outputs": [],
   "source": [
    "# 5. What is the average median salary for each major category?"
   ]
  },
  {
   "cell_type": "code",
   "execution_count": 153,
   "metadata": {
    "collapsed": true
   },
   "outputs": [
    {
     "data": {
      "text/plain": [
       "Major_category\n",
       "Agriculture & Natural Resources        55000.000000\n",
       "Arts                                   43525.000000\n",
       "Biology & Life Science                 50821.428571\n",
       "Business                               60615.384615\n",
       "Communications & Journalism            49500.000000\n",
       "Computers & Mathematics                66272.727273\n",
       "Education                              43831.250000\n",
       "Engineering                            77758.620690\n",
       "Health                                 56458.333333\n",
       "Humanities & Liberal Arts              46080.000000\n",
       "Industrial Arts & Consumer Services    52642.857143\n",
       "Interdisciplinary                      43000.000000\n",
       "Law & Public Policy                    52800.000000\n",
       "Physical Sciences                      62400.000000\n",
       "Psychology & Social Work               44555.555556\n",
       "Social Science                         53222.222222\n",
       "Name: Median, dtype: float64"
      ]
     },
     "execution_count": 153,
     "metadata": {},
     "output_type": "execute_result"
    }
   ],
   "source": [
    "majors.groupby('Major_category').Median.mean()"
   ]
  },
  {
   "cell_type": "code",
   "execution_count": null,
   "metadata": {
    "collapsed": true
   },
   "outputs": [],
   "source": [
    "# 6. Show only the top 5 paying major categories"
   ]
  },
  {
   "cell_type": "code",
   "execution_count": 154,
   "metadata": {
    "collapsed": true
   },
   "outputs": [
    {
     "data": {
      "text/plain": [
       "Major_category\n",
       "Health                     56458.333333\n",
       "Business                   60615.384615\n",
       "Physical Sciences          62400.000000\n",
       "Computers & Mathematics    66272.727273\n",
       "Engineering                77758.620690\n",
       "Name: Median, dtype: float64"
      ]
     },
     "execution_count": 154,
     "metadata": {},
     "output_type": "execute_result"
    }
   ],
   "source": [
    "majors.groupby('Major_category').Median.mean().sort_values().tail(5)"
   ]
  },
  {
   "cell_type": "code",
   "execution_count": 155,
   "metadata": {
    "collapsed": true
   },
   "outputs": [],
   "source": [
    "# 7. Plot a histogram of the distribution of median salaries"
   ]
  },
  {
   "cell_type": "code",
   "execution_count": 156,
   "metadata": {
    "collapsed": true
   },
   "outputs": [
    {
     "data": {
      "text/plain": [
       "<matplotlib.text.Text at 0x11d5d320>"
      ]
     },
     "execution_count": 156,
     "metadata": {},
     "output_type": "execute_result"
    },
    {
     "data": {
      "image/png": "[encoded data removed]",
      "text/plain": [
       "<matplotlib.figure.Figure at 0x11f24898>"
      ]
     },
     "metadata": {},
     "output_type": "display_data"
    }
   ],
   "source": [
    "majors.Median.hist()\n",
    "plt.ylabel('Number of majors')\n",
    "plt.xlabel('Median salary (USD)')"
   ]
  },
  {
   "cell_type": "code",
   "execution_count": 157,
   "metadata": {
    "collapsed": true
   },
   "outputs": [],
   "source": [
    "# 8. Plot a histogram of the distribution of median salaries by major category"
   ]
  },
  {
   "cell_type": "code",
   "execution_count": 158,
   "metadata": {
    "collapsed": true
   },
   "outputs": [
    {
     "data": {
      "text/plain": [
       "array([[<matplotlib.axes._subplots.AxesSubplot object at 0x00000000120D9DA0>,\n",
       "        <matplotlib.axes._subplots.AxesSubplot object at 0x00000000124AFBE0>,\n",
       "        <matplotlib.axes._subplots.AxesSubplot object at 0x000000001257A160>,\n",
       "        <matplotlib.axes._subplots.AxesSubplot object at 0x00000000126615C0>],\n",
       "       [<matplotlib.axes._subplots.AxesSubplot object at 0x000000001271CC88>,\n",
       "        <matplotlib.axes._subplots.AxesSubplot object at 0x0000000012670CF8>,\n",
       "        <matplotlib.axes._subplots.AxesSubplot object at 0x0000000012889518>,\n",
       "        <matplotlib.axes._subplots.AxesSubplot object at 0x0000000012986BE0>],\n",
       "       [<matplotlib.axes._subplots.AxesSubplot object at 0x0000000012A6FA20>,\n",
       "        <matplotlib.axes._subplots.AxesSubplot object at 0x0000000012B7A208>,\n",
       "        <matplotlib.axes._subplots.AxesSubplot object at 0x0000000012A96828>,\n",
       "        <matplotlib.axes._subplots.AxesSubplot object at 0x0000000012CE86D8>],\n",
       "       [<matplotlib.axes._subplots.AxesSubplot object at 0x0000000012DA1DA0>,\n",
       "        <matplotlib.axes._subplots.AxesSubplot object at 0x0000000012E68390>,\n",
       "        <matplotlib.axes._subplots.AxesSubplot object at 0x0000000012F64B38>,\n",
       "        <matplotlib.axes._subplots.AxesSubplot object at 0x0000000012FBB828>]], dtype=object)"
      ]
     },
     "execution_count": 158,
     "metadata": {},
     "output_type": "execute_result"
    },
    {
     "data": {
      "image/png": "[encoded data removed]",
      "text/plain": [
       "<matplotlib.figure.Figure at 0x120e5b38>"
      ]
     },
     "metadata": {},
     "output_type": "display_data"
    }
   ],
   "source": [
    "majors.Median.hist(by=majors.Major_category, sharex = True, sharey = True)"
   ]
  },
  {
   "cell_type": "code",
   "execution_count": 159,
   "metadata": {
    "collapsed": true
   },
   "outputs": [],
   "source": [
    "# 9. What are the top 10 most UNemployed majors?"
   ]
  },
  {
   "cell_type": "code",
   "execution_count": 160,
   "metadata": {
    "collapsed": true
   },
   "outputs": [
    {
     "data": {
      "text/html": [
       "<div>\n",
       "<table border=\"1\" class=\"dataframe\">\n",
       "  <thead>\n",
       "    <tr style=\"text-align: right;\">\n",
       "      <th></th>\n",
       "      <th>Major</th>\n",
       "      <th>Unemployment_rate</th>\n",
       "    </tr>\n",
       "  </thead>\n",
       "  <tbody>\n",
       "    <tr>\n",
       "      <th>11</th>\n",
       "      <td>ARCHITECTURE</td>\n",
       "      <td>0.085991</td>\n",
       "    </tr>\n",
       "    <tr>\n",
       "      <th>104</th>\n",
       "      <td>ASTRONOMY AND ASTROPHYSICS</td>\n",
       "      <td>0.086022</td>\n",
       "    </tr>\n",
       "    <tr>\n",
       "      <th>119</th>\n",
       "      <td>SOCIAL PSYCHOLOGY</td>\n",
       "      <td>0.087336</td>\n",
       "    </tr>\n",
       "    <tr>\n",
       "      <th>19</th>\n",
       "      <td>COMPUTER PROGRAMMING AND DATA PROCESSING</td>\n",
       "      <td>0.090264</td>\n",
       "    </tr>\n",
       "    <tr>\n",
       "      <th>141</th>\n",
       "      <td>VISUAL AND PERFORMING ARTS</td>\n",
       "      <td>0.094658</td>\n",
       "    </tr>\n",
       "    <tr>\n",
       "      <th>77</th>\n",
       "      <td>LIBRARY SCIENCE</td>\n",
       "      <td>0.094843</td>\n",
       "    </tr>\n",
       "    <tr>\n",
       "      <th>27</th>\n",
       "      <td>SCHOOL STUDENT COUNSELING</td>\n",
       "      <td>0.101746</td>\n",
       "    </tr>\n",
       "    <tr>\n",
       "      <th>93</th>\n",
       "      <td>MILITARY TECHNOLOGIES</td>\n",
       "      <td>0.101796</td>\n",
       "    </tr>\n",
       "    <tr>\n",
       "      <th>116</th>\n",
       "      <td>CLINICAL PSYCHOLOGY</td>\n",
       "      <td>0.102712</td>\n",
       "    </tr>\n",
       "    <tr>\n",
       "      <th>146</th>\n",
       "      <td>MISCELLANEOUS FINE ARTS</td>\n",
       "      <td>0.156147</td>\n",
       "    </tr>\n",
       "  </tbody>\n",
       "</table>\n",
       "</div>"
      ],
      "text/plain": [
       "                                        Major  Unemployment_rate\n",
       "11                               ARCHITECTURE           0.085991\n",
       "104                ASTRONOMY AND ASTROPHYSICS           0.086022\n",
       "119                         SOCIAL PSYCHOLOGY           0.087336\n",
       "19   COMPUTER PROGRAMMING AND DATA PROCESSING           0.090264\n",
       "141                VISUAL AND PERFORMING ARTS           0.094658\n",
       "77                            LIBRARY SCIENCE           0.094843\n",
       "27                  SCHOOL STUDENT COUNSELING           0.101746\n",
       "93                      MILITARY TECHNOLOGIES           0.101796\n",
       "116                       CLINICAL PSYCHOLOGY           0.102712\n",
       "146                   MISCELLANEOUS FINE ARTS           0.156147"
      ]
     },
     "execution_count": 160,
     "metadata": {},
     "output_type": "execute_result"
    }
   ],
   "source": [
    "majors[['Major','Unemployment_rate']].sort_values(by='Unemployment_rate').tail(10)"
   ]
  },
  {
   "cell_type": "code",
   "execution_count": 161,
   "metadata": {
    "collapsed": true
   },
   "outputs": [],
   "source": [
    "# What are the unemployment rates?"
   ]
  },
  {
   "cell_type": "code",
   "execution_count": 162,
   "metadata": {
    "collapsed": true
   },
   "outputs": [
    {
     "data": {
      "text/html": [
       "<div>\n",
       "<table border=\"1\" class=\"dataframe\">\n",
       "  <thead>\n",
       "    <tr style=\"text-align: right;\">\n",
       "      <th></th>\n",
       "      <th>Major</th>\n",
       "      <th>Unemployment_rate</th>\n",
       "    </tr>\n",
       "  </thead>\n",
       "  <tbody>\n",
       "    <tr>\n",
       "      <th>11</th>\n",
       "      <td>ARCHITECTURE</td>\n",
       "      <td>0.085991</td>\n",
       "    </tr>\n",
       "    <tr>\n",
       "      <th>104</th>\n",
       "      <td>ASTRONOMY AND ASTROPHYSICS</td>\n",
       "      <td>0.086022</td>\n",
       "    </tr>\n",
       "    <tr>\n",
       "      <th>119</th>\n",
       "      <td>SOCIAL PSYCHOLOGY</td>\n",
       "      <td>0.087336</td>\n",
       "    </tr>\n",
       "    <tr>\n",
       "      <th>19</th>\n",
       "      <td>COMPUTER PROGRAMMING AND DATA PROCESSING</td>\n",
       "      <td>0.090264</td>\n",
       "    </tr>\n",
       "    <tr>\n",
       "      <th>141</th>\n",
       "      <td>VISUAL AND PERFORMING ARTS</td>\n",
       "      <td>0.094658</td>\n",
       "    </tr>\n",
       "    <tr>\n",
       "      <th>77</th>\n",
       "      <td>LIBRARY SCIENCE</td>\n",
       "      <td>0.094843</td>\n",
       "    </tr>\n",
       "    <tr>\n",
       "      <th>27</th>\n",
       "      <td>SCHOOL STUDENT COUNSELING</td>\n",
       "      <td>0.101746</td>\n",
       "    </tr>\n",
       "    <tr>\n",
       "      <th>93</th>\n",
       "      <td>MILITARY TECHNOLOGIES</td>\n",
       "      <td>0.101796</td>\n",
       "    </tr>\n",
       "    <tr>\n",
       "      <th>116</th>\n",
       "      <td>CLINICAL PSYCHOLOGY</td>\n",
       "      <td>0.102712</td>\n",
       "    </tr>\n",
       "    <tr>\n",
       "      <th>146</th>\n",
       "      <td>MISCELLANEOUS FINE ARTS</td>\n",
       "      <td>0.156147</td>\n",
       "    </tr>\n",
       "  </tbody>\n",
       "</table>\n",
       "</div>"
      ],
      "text/plain": [
       "                                        Major  Unemployment_rate\n",
       "11                               ARCHITECTURE           0.085991\n",
       "104                ASTRONOMY AND ASTROPHYSICS           0.086022\n",
       "119                         SOCIAL PSYCHOLOGY           0.087336\n",
       "19   COMPUTER PROGRAMMING AND DATA PROCESSING           0.090264\n",
       "141                VISUAL AND PERFORMING ARTS           0.094658\n",
       "77                            LIBRARY SCIENCE           0.094843\n",
       "27                  SCHOOL STUDENT COUNSELING           0.101746\n",
       "93                      MILITARY TECHNOLOGIES           0.101796\n",
       "116                       CLINICAL PSYCHOLOGY           0.102712\n",
       "146                   MISCELLANEOUS FINE ARTS           0.156147"
      ]
     },
     "execution_count": 162,
     "metadata": {},
     "output_type": "execute_result"
    }
   ],
   "source": [
    "majors[['Major','Unemployment_rate']].sort_values(by='Unemployment_rate').tail(10)"
   ]
  },
  {
   "cell_type": "code",
   "execution_count": 163,
   "metadata": {
    "collapsed": true
   },
   "outputs": [],
   "source": [
    "# 10. What are the top 10 most UNemployed majors CATEGORIES? Use the mean for each category\n",
    "# What are the unemployment rates?"
   ]
  },
  {
   "cell_type": "code",
   "execution_count": 164,
   "metadata": {
    "collapsed": true
   },
   "outputs": [
    {
     "data": {
      "text/plain": [
       "Major_category\n",
       "Communications & Journalism    0.069125\n",
       "Humanities & Liberal Arts      0.069429\n",
       "Interdisciplinary              0.077269\n",
       "Psychology & Social Work       0.077867\n",
       "Arts                           0.087601\n",
       "Name: Unemployment_rate, dtype: float64"
      ]
     },
     "execution_count": 164,
     "metadata": {},
     "output_type": "execute_result"
    }
   ],
   "source": [
    "majors.groupby('Major_category').Unemployment_rate.mean().sort_values().tail(5)"
   ]
  },
  {
   "cell_type": "code",
   "execution_count": null,
   "metadata": {
    "collapsed": true
   },
   "outputs": [],
   "source": [
    "# 11. the total and employed column refer to the people that were surveyed.\n",
    "# Create a new column showing the emlpoyment rate of the people surveyed for each major\n",
    "# call it \"sample_employment_rate\"\n",
    "# Example the first row has total: 128148 and employed: 90245. it's \n",
    "# sample_employment_rate should be 90245.0 / 128148.0 = .7042"
   ]
  },
  {
   "cell_type": "code",
   "execution_count": 165,
   "metadata": {
    "collapsed": true
   },
   "outputs": [
    {
     "data": {
      "text/html": [
       "<div>\n",
       "<table border=\"1\" class=\"dataframe\">\n",
       "  <thead>\n",
       "    <tr style=\"text-align: right;\">\n",
       "      <th></th>\n",
       "      <th>Unnamed: 0</th>\n",
       "      <th>Major</th>\n",
       "      <th>Major_category</th>\n",
       "      <th>Total</th>\n",
       "      <th>Employed</th>\n",
       "      <th>Unemployed</th>\n",
       "      <th>Unemployment_rate</th>\n",
       "      <th>Median</th>\n",
       "      <th>P25th</th>\n",
       "      <th>P75th</th>\n",
       "      <th>sample_employment_rate</th>\n",
       "    </tr>\n",
       "  </thead>\n",
       "  <tbody>\n",
       "    <tr>\n",
       "      <th>0</th>\n",
       "      <td>0</td>\n",
       "      <td>GENERAL AGRICULTURE</td>\n",
       "      <td>Agriculture &amp; Natural Resources</td>\n",
       "      <td>128148</td>\n",
       "      <td>90245</td>\n",
       "      <td>2423</td>\n",
       "      <td>0.026147</td>\n",
       "      <td>50000</td>\n",
       "      <td>34000</td>\n",
       "      <td>80000.0</td>\n",
       "      <td>0.704225</td>\n",
       "    </tr>\n",
       "    <tr>\n",
       "      <th>1</th>\n",
       "      <td>1</td>\n",
       "      <td>AGRICULTURE PRODUCTION AND MANAGEMENT</td>\n",
       "      <td>Agriculture &amp; Natural Resources</td>\n",
       "      <td>95326</td>\n",
       "      <td>76865</td>\n",
       "      <td>2266</td>\n",
       "      <td>0.028636</td>\n",
       "      <td>54000</td>\n",
       "      <td>36000</td>\n",
       "      <td>80000.0</td>\n",
       "      <td>0.806338</td>\n",
       "    </tr>\n",
       "    <tr>\n",
       "      <th>2</th>\n",
       "      <td>2</td>\n",
       "      <td>AGRICULTURAL ECONOMICS</td>\n",
       "      <td>Agriculture &amp; Natural Resources</td>\n",
       "      <td>33955</td>\n",
       "      <td>26321</td>\n",
       "      <td>821</td>\n",
       "      <td>0.030248</td>\n",
       "      <td>63000</td>\n",
       "      <td>40000</td>\n",
       "      <td>98000.0</td>\n",
       "      <td>0.775173</td>\n",
       "    </tr>\n",
       "    <tr>\n",
       "      <th>3</th>\n",
       "      <td>3</td>\n",
       "      <td>ANIMAL SCIENCES</td>\n",
       "      <td>Agriculture &amp; Natural Resources</td>\n",
       "      <td>103549</td>\n",
       "      <td>81177</td>\n",
       "      <td>3619</td>\n",
       "      <td>0.042679</td>\n",
       "      <td>46000</td>\n",
       "      <td>30000</td>\n",
       "      <td>72000.0</td>\n",
       "      <td>0.783948</td>\n",
       "    </tr>\n",
       "    <tr>\n",
       "      <th>4</th>\n",
       "      <td>4</td>\n",
       "      <td>FOOD SCIENCE</td>\n",
       "      <td>Agriculture &amp; Natural Resources</td>\n",
       "      <td>24280</td>\n",
       "      <td>17281</td>\n",
       "      <td>894</td>\n",
       "      <td>0.049188</td>\n",
       "      <td>62000</td>\n",
       "      <td>38500</td>\n",
       "      <td>90000.0</td>\n",
       "      <td>0.711738</td>\n",
       "    </tr>\n",
       "  </tbody>\n",
       "</table>\n",
       "</div>"
      ],
      "text/plain": [
       "   Unnamed: 0                                  Major  \\\n",
       "0           0                    GENERAL AGRICULTURE   \n",
       "1           1  AGRICULTURE PRODUCTION AND MANAGEMENT   \n",
       "2           2                 AGRICULTURAL ECONOMICS   \n",
       "3           3                        ANIMAL SCIENCES   \n",
       "4           4                           FOOD SCIENCE   \n",
       "\n",
       "                    Major_category   Total  Employed  Unemployed  \\\n",
       "0  Agriculture & Natural Resources  128148     90245        2423   \n",
       "1  Agriculture & Natural Resources   95326     76865        2266   \n",
       "2  Agriculture & Natural Resources   33955     26321         821   \n",
       "3  Agriculture & Natural Resources  103549     81177        3619   \n",
       "4  Agriculture & Natural Resources   24280     17281         894   \n",
       "\n",
       "   Unemployment_rate  Median  P25th    P75th  sample_employment_rate  \n",
       "0           0.026147   50000  34000  80000.0                0.704225  \n",
       "1           0.028636   54000  36000  80000.0                0.806338  \n",
       "2           0.030248   63000  40000  98000.0                0.775173  \n",
       "3           0.042679   46000  30000  72000.0                0.783948  \n",
       "4           0.049188   62000  38500  90000.0                0.711738  "
      ]
     },
     "execution_count": 165,
     "metadata": {},
     "output_type": "execute_result"
    }
   ],
   "source": [
    "new_col = majors.Employed.astype(float)/majors.Total\n",
    "majors['sample_employment_rate'] = new_col\n",
    "majors.head()"
   ]
  },
  {
   "cell_type": "code",
   "execution_count": 166,
   "metadata": {
    "collapsed": true
   },
   "outputs": [],
   "source": [
    "# 12. Create a \"sample_unemployment_rate\" column\n",
    "# this column should be 1 - \"sample_employment_rate\""
   ]
  },
  {
   "cell_type": "code",
   "execution_count": 167,
   "metadata": {
    "collapsed": true
   },
   "outputs": [
    {
     "data": {
      "text/html": [
       "<div>\n",
       "<table border=\"1\" class=\"dataframe\">\n",
       "  <thead>\n",
       "    <tr style=\"text-align: right;\">\n",
       "      <th></th>\n",
       "      <th>Unnamed: 0</th>\n",
       "      <th>Major</th>\n",
       "      <th>Major_category</th>\n",
       "      <th>Total</th>\n",
       "      <th>Employed</th>\n",
       "      <th>Unemployed</th>\n",
       "      <th>Unemployment_rate</th>\n",
       "      <th>Median</th>\n",
       "      <th>P25th</th>\n",
       "      <th>P75th</th>\n",
       "      <th>sample_employment_rate</th>\n",
       "      <th>sample_unemployment_rate</th>\n",
       "    </tr>\n",
       "  </thead>\n",
       "  <tbody>\n",
       "    <tr>\n",
       "      <th>0</th>\n",
       "      <td>0</td>\n",
       "      <td>GENERAL AGRICULTURE</td>\n",
       "      <td>Agriculture &amp; Natural Resources</td>\n",
       "      <td>128148</td>\n",
       "      <td>90245</td>\n",
       "      <td>2423</td>\n",
       "      <td>0.026147</td>\n",
       "      <td>50000</td>\n",
       "      <td>34000</td>\n",
       "      <td>80000.0</td>\n",
       "      <td>0.704225</td>\n",
       "      <td>0.295775</td>\n",
       "    </tr>\n",
       "    <tr>\n",
       "      <th>1</th>\n",
       "      <td>1</td>\n",
       "      <td>AGRICULTURE PRODUCTION AND MANAGEMENT</td>\n",
       "      <td>Agriculture &amp; Natural Resources</td>\n",
       "      <td>95326</td>\n",
       "      <td>76865</td>\n",
       "      <td>2266</td>\n",
       "      <td>0.028636</td>\n",
       "      <td>54000</td>\n",
       "      <td>36000</td>\n",
       "      <td>80000.0</td>\n",
       "      <td>0.806338</td>\n",
       "      <td>0.193662</td>\n",
       "    </tr>\n",
       "    <tr>\n",
       "      <th>2</th>\n",
       "      <td>2</td>\n",
       "      <td>AGRICULTURAL ECONOMICS</td>\n",
       "      <td>Agriculture &amp; Natural Resources</td>\n",
       "      <td>33955</td>\n",
       "      <td>26321</td>\n",
       "      <td>821</td>\n",
       "      <td>0.030248</td>\n",
       "      <td>63000</td>\n",
       "      <td>40000</td>\n",
       "      <td>98000.0</td>\n",
       "      <td>0.775173</td>\n",
       "      <td>0.224827</td>\n",
       "    </tr>\n",
       "    <tr>\n",
       "      <th>3</th>\n",
       "      <td>3</td>\n",
       "      <td>ANIMAL SCIENCES</td>\n",
       "      <td>Agriculture &amp; Natural Resources</td>\n",
       "      <td>103549</td>\n",
       "      <td>81177</td>\n",
       "      <td>3619</td>\n",
       "      <td>0.042679</td>\n",
       "      <td>46000</td>\n",
       "      <td>30000</td>\n",
       "      <td>72000.0</td>\n",
       "      <td>0.783948</td>\n",
       "      <td>0.216052</td>\n",
       "    </tr>\n",
       "    <tr>\n",
       "      <th>4</th>\n",
       "      <td>4</td>\n",
       "      <td>FOOD SCIENCE</td>\n",
       "      <td>Agriculture &amp; Natural Resources</td>\n",
       "      <td>24280</td>\n",
       "      <td>17281</td>\n",
       "      <td>894</td>\n",
       "      <td>0.049188</td>\n",
       "      <td>62000</td>\n",
       "      <td>38500</td>\n",
       "      <td>90000.0</td>\n",
       "      <td>0.711738</td>\n",
       "      <td>0.288262</td>\n",
       "    </tr>\n",
       "  </tbody>\n",
       "</table>\n",
       "</div>"
      ],
      "text/plain": [
       "   Unnamed: 0                                  Major  \\\n",
       "0           0                    GENERAL AGRICULTURE   \n",
       "1           1  AGRICULTURE PRODUCTION AND MANAGEMENT   \n",
       "2           2                 AGRICULTURAL ECONOMICS   \n",
       "3           3                        ANIMAL SCIENCES   \n",
       "4           4                           FOOD SCIENCE   \n",
       "\n",
       "                    Major_category   Total  Employed  Unemployed  \\\n",
       "0  Agriculture & Natural Resources  128148     90245        2423   \n",
       "1  Agriculture & Natural Resources   95326     76865        2266   \n",
       "2  Agriculture & Natural Resources   33955     26321         821   \n",
       "3  Agriculture & Natural Resources  103549     81177        3619   \n",
       "4  Agriculture & Natural Resources   24280     17281         894   \n",
       "\n",
       "   Unemployment_rate  Median  P25th    P75th  sample_employment_rate  \\\n",
       "0           0.026147   50000  34000  80000.0                0.704225   \n",
       "1           0.028636   54000  36000  80000.0                0.806338   \n",
       "2           0.030248   63000  40000  98000.0                0.775173   \n",
       "3           0.042679   46000  30000  72000.0                0.783948   \n",
       "4           0.049188   62000  38500  90000.0                0.711738   \n",
       "\n",
       "   sample_unemployment_rate  \n",
       "0                  0.295775  \n",
       "1                  0.193662  \n",
       "2                  0.224827  \n",
       "3                  0.216052  \n",
       "4                  0.288262  "
      ]
     },
     "execution_count": 167,
     "metadata": {},
     "output_type": "execute_result"
    }
   ],
   "source": [
    "majors['sample_unemployment_rate'] = 1 - majors.sample_employment_rate\n",
    "majors.head()"
   ]
  },
  {
   "cell_type": "code",
   "execution_count": null,
   "metadata": {
    "collapsed": false
   },
   "outputs": [],
   "source": []
  }
 ],
 "metadata": {
  "anaconda-cloud": {},
  "kernelspec": {
   "display_name": "Python [sfdat26-capar]",
   "language": "python",
   "name": "Python [sfdat26-capar]"
  },
  "language_info": {
   "codemirror_mode": {
    "name": "ipython",
    "version": 2
   },
   "file_extension": ".py",
   "mimetype": "text/x-python",
   "name": "python",
   "nbconvert_exporter": "python",
   "pygments_lexer": "ipython2",
   "version": "2.7.12"
  }
 },
 "nbformat": 4,
 "nbformat_minor": 0
}
